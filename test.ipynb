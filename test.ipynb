{
 "cells": [
  {
   "cell_type": "code",
   "execution_count": 1,
   "id": "922b9a66-12b3-40d7-a95b-b5d17f48a52c",
   "metadata": {},
   "outputs": [],
   "source": [
    "from pyspark.sql import SparkSession\n",
    "from pyspark.sql.types import StructType, StructField, StringType"
   ]
  },
  {
   "cell_type": "code",
   "execution_count": 2,
   "id": "24547325-0601-45f7-ba02-12b85d81e426",
   "metadata": {},
   "outputs": [],
   "source": [
    "SparkSession = SparkSession.builder.appName(\"My first spark work\").getOrCreate()"
   ]
  },
  {
   "cell_type": "code",
   "execution_count": 3,
   "id": "307352ec-bbe5-4188-9f3f-d8c3f723d739",
   "metadata": {},
   "outputs": [
    {
     "data": {
      "text/html": [
       "\n",
       "            <div>\n",
       "                <p><b>SparkSession - in-memory</b></p>\n",
       "                \n",
       "        <div>\n",
       "            <p><b>SparkContext</b></p>\n",
       "\n",
       "            <p><a href=\"http://8a857bd6319c:4040\">Spark UI</a></p>\n",
       "\n",
       "            <dl>\n",
       "              <dt>Version</dt>\n",
       "                <dd><code>v3.5.0</code></dd>\n",
       "              <dt>Master</dt>\n",
       "                <dd><code>local[*]</code></dd>\n",
       "              <dt>AppName</dt>\n",
       "                <dd><code>My first spark work</code></dd>\n",
       "            </dl>\n",
       "        </div>\n",
       "        \n",
       "            </div>\n",
       "        "
      ],
      "text/plain": [
       "<pyspark.sql.session.SparkSession at 0x7fee10fc99d0>"
      ]
     },
     "execution_count": 3,
     "metadata": {},
     "output_type": "execute_result"
    }
   ],
   "source": [
    "SparkSession"
   ]
  },
  {
   "cell_type": "markdown",
   "id": "6e905e99-f9a5-4270-8bb8-e2b7496a883b",
   "metadata": {},
   "source": [
    " **header = \"true\"** ile Spark, CSV'deki ilk satırı sütun başlıkları olarak kabul eder. **inferSchema = True** ile Spark, sütunların veri türlerini otomatik olarak belirler."
   ]
  },
  {
   "cell_type": "code",
   "execution_count": 4,
   "id": "a3d793c7-2e93-4028-9ca8-103a32c9caab",
   "metadata": {},
   "outputs": [],
   "source": [
    "rawDF = SparkSession.read.csv(\"MOCK_DATA.csv\", header=\"true\", inferSchema=True)"
   ]
  },
  {
   "cell_type": "code",
   "execution_count": 5,
   "id": "c4e2f6fd-c866-4beb-a503-11ed8b036645",
   "metadata": {},
   "outputs": [
    {
     "name": "stdout",
     "output_type": "stream",
     "text": [
      "+---+----------+------------+--------------------+-------+-------------+--------------------+\n",
      "| id|first_name|   last_name|               email| gender|      country|                city|\n",
      "+---+----------+------------+--------------------+-------+-------------+--------------------+\n",
      "|  1|     Denys|Schiefersten|dschiefersten0@ch...| Female|       Brazil|     Paty do Alferes|\n",
      "|  2| Kimberley|  Christophe|kchristophe1@icio.us| Female|    Indonesia|             Puutura|\n",
      "|  3|      Burr|      Fursey|bfursey2@hostgato...|   Male|      Andorra|          la Massana|\n",
      "|  4|      Otis|     Marriot| omarriot3@diigo.com|   Male|        China|               Wutun|\n",
      "|  5|   Chester|    Trahearn| ctrahearn4@yale.edu|   Male|     Colombia|             Popayán|\n",
      "|  6|   Humbert|      Dacres|  hdacres5@weibo.com|   Male|       Russia|          Zhukovskiy|\n",
      "|  7| Nikoletta|   Hickisson|nhickisson6@weibo...| Female|        China|             Tianbao|\n",
      "|  8|    Quincy|       Rough|qrough7@ezinearti...|Agender|         Peru|             Carumas|\n",
      "|  9|     Marcy|      Debill|mdebill8@skyrock.com| Female|        China|               Boshi|\n",
      "| 10|      Nate|     Scotson|nscotson9@mashabl...|   Male|     Portugal|               Mafra|\n",
      "| 11|   Juliann|   Rewbottom|jrewbottoma@amebl...| Female|       Brazil|             Iturama|\n",
      "| 12|   Zebedee|    Downgate|zdowngateb@blogge...|   Male|United States|       Oklahoma City|\n",
      "| 13|      Guss|   Von Brook|gvonbrookc@sfgate...|   Male|     Thailand|         Sawankhalok|\n",
      "| 14|    Angele|       Ilden|aildend@nationalg...| Female|    Venezuela|          Caucagüito|\n",
      "| 15|   Roxanna|       Winks| rwinkse@reuters.com| Female| South Africa|            Mankoeng|\n",
      "| 16|     Dulce|       Brito|  dbritof@boston.com| Female|         Peru|          Mollepampa|\n",
      "| 17|   Cecilio|     Brabban|   cbrabbang@last.fm|   Male|       France|La Plaine-Saint-D...|\n",
      "| 18|      Abel|      Deware|   adewareh@live.com|   Male|      Ukraine|        Novopokrovka|\n",
      "| 19| Rochester|        Jost|rjosti@miibeian.g...|   Male|        China|                Hexi|\n",
      "| 20|     Rowan|    Pawelski|rpawelskij@istock...|   Male|   Costa Rica|               Cañas|\n",
      "+---+----------+------------+--------------------+-------+-------------+--------------------+\n",
      "only showing top 20 rows\n",
      "\n"
     ]
    }
   ],
   "source": [
    "rawDF.show()"
   ]
  },
  {
   "cell_type": "code",
   "execution_count": 8,
   "id": "ae17c359-00bf-429f-ba5f-531ccfc9bf6f",
   "metadata": {},
   "outputs": [
    {
     "name": "stdout",
     "output_type": "stream",
     "text": [
      "root\n",
      " |-- id: integer (nullable = true)\n",
      " |-- first_name: string (nullable = true)\n",
      " |-- last_name: string (nullable = true)\n",
      " |-- email: string (nullable = true)\n",
      " |-- gender: string (nullable = true)\n",
      " |-- country: string (nullable = true)\n",
      " |-- city: string (nullable = true)\n",
      "\n"
     ]
    }
   ],
   "source": [
    "rawDF.printSchema()"
   ]
  },
  {
   "cell_type": "code",
   "execution_count": 9,
   "id": "bb3da3a9-9588-43ab-a9ee-5146ebb234d8",
   "metadata": {},
   "outputs": [
    {
     "name": "stdout",
     "output_type": "stream",
     "text": [
      "+---+----------+------------+---------------------------------+-------+-------------+---------------------+\n",
      "|id |first_name|last_name   |email                            |gender |country      |city                 |\n",
      "+---+----------+------------+---------------------------------+-------+-------------+---------------------+\n",
      "|1  |Denys     |Schiefersten|dschiefersten0@chicagotribune.com|Female |Brazil       |Paty do Alferes      |\n",
      "|2  |Kimberley |Christophe  |kchristophe1@icio.us             |Female |Indonesia    |Puutura              |\n",
      "|3  |Burr      |Fursey      |bfursey2@hostgator.com           |Male   |Andorra      |la Massana           |\n",
      "|4  |Otis      |Marriot     |omarriot3@diigo.com              |Male   |China        |Wutun                |\n",
      "|5  |Chester   |Trahearn    |ctrahearn4@yale.edu              |Male   |Colombia     |Popayán              |\n",
      "|6  |Humbert   |Dacres      |hdacres5@weibo.com               |Male   |Russia       |Zhukovskiy           |\n",
      "|7  |Nikoletta |Hickisson   |nhickisson6@weibo.com            |Female |China        |Tianbao              |\n",
      "|8  |Quincy    |Rough       |qrough7@ezinearticles.com        |Agender|Peru         |Carumas              |\n",
      "|9  |Marcy     |Debill      |mdebill8@skyrock.com             |Female |China        |Boshi                |\n",
      "|10 |Nate      |Scotson     |nscotson9@mashable.com           |Male   |Portugal     |Mafra                |\n",
      "|11 |Juliann   |Rewbottom   |jrewbottoma@ameblo.jp            |Female |Brazil       |Iturama              |\n",
      "|12 |Zebedee   |Downgate    |zdowngateb@blogger.com           |Male   |United States|Oklahoma City        |\n",
      "|13 |Guss      |Von Brook   |gvonbrookc@sfgate.com            |Male   |Thailand     |Sawankhalok          |\n",
      "|14 |Angele    |Ilden       |aildend@nationalgeographic.com   |Female |Venezuela    |Caucagüito           |\n",
      "|15 |Roxanna   |Winks       |rwinkse@reuters.com              |Female |South Africa |Mankoeng             |\n",
      "|16 |Dulce     |Brito       |dbritof@boston.com               |Female |Peru         |Mollepampa           |\n",
      "|17 |Cecilio   |Brabban     |cbrabbang@last.fm                |Male   |France       |La Plaine-Saint-Denis|\n",
      "|18 |Abel      |Deware      |adewareh@live.com                |Male   |Ukraine      |Novopokrovka         |\n",
      "|19 |Rochester |Jost        |rjosti@miibeian.gov.cn           |Male   |China        |Hexi                 |\n",
      "|20 |Rowan     |Pawelski    |rpawelskij@istockphoto.com       |Male   |Costa Rica   |Cañas                |\n",
      "+---+----------+------------+---------------------------------+-------+-------------+---------------------+\n",
      "only showing top 20 rows\n",
      "\n"
     ]
    }
   ],
   "source": [
    "rawDF.show(truncate=False)"
   ]
  },
  {
   "cell_type": "code",
   "execution_count": 9,
   "id": "8be52831-3d18-4219-82ac-d84c7f51d89e",
   "metadata": {},
   "outputs": [
    {
     "data": {
      "text/plain": [
       "list"
      ]
     },
     "execution_count": 9,
     "metadata": {},
     "output_type": "execute_result"
    }
   ],
   "source": [
    "type(rawDF.columns)"
   ]
  },
  {
   "cell_type": "code",
   "execution_count": 10,
   "id": "3bdc6468-a999-4ef0-9ec4-de3a9e95ba26",
   "metadata": {},
   "outputs": [
    {
     "data": {
      "text/plain": [
       "['id', 'first_name', 'last_name', 'email', 'gender', 'country', 'city']"
      ]
     },
     "execution_count": 10,
     "metadata": {},
     "output_type": "execute_result"
    }
   ],
   "source": [
    "rawDF.columns"
   ]
  },
  {
   "cell_type": "code",
   "execution_count": 11,
   "id": "7d9e5b5c-2adc-4d2d-9a88-49430a309543",
   "metadata": {},
   "outputs": [
    {
     "data": {
      "text/plain": [
       "1000"
      ]
     },
     "execution_count": 11,
     "metadata": {},
     "output_type": "execute_result"
    }
   ],
   "source": [
    "rawDF.count()"
   ]
  },
  {
   "cell_type": "code",
   "execution_count": 12,
   "id": "217e6288-ed0f-453e-83aa-c3ebdbb0c95c",
   "metadata": {},
   "outputs": [
    {
     "data": {
      "text/plain": [
       "[Row(id=1, first_name='Denys', last_name='Schiefersten', email='dschiefersten0@chicagotribune.com', gender='Female', country='Brazil', city='Paty do Alferes'),\n",
       " Row(id=2, first_name='Kimberley', last_name='Christophe', email='kchristophe1@icio.us', gender='Female', country='Indonesia', city='Puutura')]"
      ]
     },
     "execution_count": 12,
     "metadata": {},
     "output_type": "execute_result"
    }
   ],
   "source": [
    "rawDF.head(2)"
   ]
  },
  {
   "cell_type": "code",
   "execution_count": 13,
   "id": "446e2af8-880f-4cbc-8c87-601288da4978",
   "metadata": {},
   "outputs": [],
   "source": [
    "nameCountryDF = rawDF.select('first_name', 'country')"
   ]
  },
  {
   "cell_type": "code",
   "execution_count": 14,
   "id": "204d50d4-c2e2-47dc-b5be-6f74944b42f5",
   "metadata": {},
   "outputs": [
    {
     "name": "stdout",
     "output_type": "stream",
     "text": [
      "+----------+-------------+\n",
      "|first_name|      country|\n",
      "+----------+-------------+\n",
      "|     Denys|       Brazil|\n",
      "| Kimberley|    Indonesia|\n",
      "|      Burr|      Andorra|\n",
      "|      Otis|        China|\n",
      "|   Chester|     Colombia|\n",
      "|   Humbert|       Russia|\n",
      "| Nikoletta|        China|\n",
      "|    Quincy|         Peru|\n",
      "|     Marcy|        China|\n",
      "|      Nate|     Portugal|\n",
      "|   Juliann|       Brazil|\n",
      "|   Zebedee|United States|\n",
      "|      Guss|     Thailand|\n",
      "|    Angele|    Venezuela|\n",
      "|   Roxanna| South Africa|\n",
      "|     Dulce|         Peru|\n",
      "|   Cecilio|       France|\n",
      "|      Abel|      Ukraine|\n",
      "| Rochester|        China|\n",
      "|     Rowan|   Costa Rica|\n",
      "+----------+-------------+\n",
      "only showing top 20 rows\n",
      "\n"
     ]
    }
   ],
   "source": [
    "nameCountryDF.show()"
   ]
  },
  {
   "cell_type": "code",
   "execution_count": 64,
   "id": "4b1e36cb-8031-4d17-90da-4d26eb5dea8f",
   "metadata": {},
   "outputs": [
    {
     "name": "stdout",
     "output_type": "stream",
     "text": [
      "+-------+-----------------+----------+----------+------------------------+----------+-----------+-----------+\n",
      "|summary|id               |first_name|last_name |email                   |gender    |country    |city       |\n",
      "+-------+-----------------+----------+----------+------------------------+----------+-----------+-----------+\n",
      "|count  |1000             |1000      |1000      |1000                    |1000      |1000       |1000       |\n",
      "|mean   |500.5            |NULL      |NULL      |NULL                    |NULL      |NULL       |NULL       |\n",
      "|stddev |288.8194360957494|NULL      |NULL      |NULL                    |NULL      |NULL       |NULL       |\n",
      "|min    |1                |Aaron     |Abade     |aagent4h@plala.or.jp    |Agender   |Afghanistan|Abomsa     |\n",
      "|max    |1000             |Zsa zsa   |de Bullion|zsteadmanmx@edublogs.org|Polygender|Zambia     |Ḩammām Damt|\n",
      "+-------+-----------------+----------+----------+------------------------+----------+-----------+-----------+\n",
      "\n"
     ]
    }
   ],
   "source": [
    "rawDF.describe().show(truncate=False)"
   ]
  },
  {
   "cell_type": "code",
   "execution_count": 6,
   "id": "68fa719e-3a01-4bb5-bd91-97d0950d0f4b",
   "metadata": {},
   "outputs": [],
   "source": [
    "neweIdDF = rawDF.withColumn('new_id', rawDF['id'] + 1000)"
   ]
  },
  {
   "cell_type": "code",
   "execution_count": 70,
   "id": "cc1d2cad-0fb0-4ae2-b314-3959ece2eca9",
   "metadata": {},
   "outputs": [
    {
     "name": "stdout",
     "output_type": "stream",
     "text": [
      "+---+----------+------------+--------------------+-------+-------------+--------------------+------+\n",
      "| id|first_name|   last_name|               email| gender|      country|                city|new_id|\n",
      "+---+----------+------------+--------------------+-------+-------------+--------------------+------+\n",
      "|  1|     Denys|Schiefersten|dschiefersten0@ch...| Female|       Brazil|     Paty do Alferes|  1001|\n",
      "|  2| Kimberley|  Christophe|kchristophe1@icio.us| Female|    Indonesia|             Puutura|  1002|\n",
      "|  3|      Burr|      Fursey|bfursey2@hostgato...|   Male|      Andorra|          la Massana|  1003|\n",
      "|  4|      Otis|     Marriot| omarriot3@diigo.com|   Male|        China|               Wutun|  1004|\n",
      "|  5|   Chester|    Trahearn| ctrahearn4@yale.edu|   Male|     Colombia|             Popayán|  1005|\n",
      "|  6|   Humbert|      Dacres|  hdacres5@weibo.com|   Male|       Russia|          Zhukovskiy|  1006|\n",
      "|  7| Nikoletta|   Hickisson|nhickisson6@weibo...| Female|        China|             Tianbao|  1007|\n",
      "|  8|    Quincy|       Rough|qrough7@ezinearti...|Agender|         Peru|             Carumas|  1008|\n",
      "|  9|     Marcy|      Debill|mdebill8@skyrock.com| Female|        China|               Boshi|  1009|\n",
      "| 10|      Nate|     Scotson|nscotson9@mashabl...|   Male|     Portugal|               Mafra|  1010|\n",
      "| 11|   Juliann|   Rewbottom|jrewbottoma@amebl...| Female|       Brazil|             Iturama|  1011|\n",
      "| 12|   Zebedee|    Downgate|zdowngateb@blogge...|   Male|United States|       Oklahoma City|  1012|\n",
      "| 13|      Guss|   Von Brook|gvonbrookc@sfgate...|   Male|     Thailand|         Sawankhalok|  1013|\n",
      "| 14|    Angele|       Ilden|aildend@nationalg...| Female|    Venezuela|          Caucagüito|  1014|\n",
      "| 15|   Roxanna|       Winks| rwinkse@reuters.com| Female| South Africa|            Mankoeng|  1015|\n",
      "| 16|     Dulce|       Brito|  dbritof@boston.com| Female|         Peru|          Mollepampa|  1016|\n",
      "| 17|   Cecilio|     Brabban|   cbrabbang@last.fm|   Male|       France|La Plaine-Saint-D...|  1017|\n",
      "| 18|      Abel|      Deware|   adewareh@live.com|   Male|      Ukraine|        Novopokrovka|  1018|\n",
      "| 19| Rochester|        Jost|rjosti@miibeian.g...|   Male|        China|                Hexi|  1019|\n",
      "| 20|     Rowan|    Pawelski|rpawelskij@istock...|   Male|   Costa Rica|               Cañas|  1020|\n",
      "+---+----------+------------+--------------------+-------+-------------+--------------------+------+\n",
      "only showing top 20 rows\n",
      "\n"
     ]
    }
   ],
   "source": [
    "neweIdDF.show()"
   ]
  },
  {
   "cell_type": "code",
   "execution_count": 73,
   "id": "5643981e-dcae-484c-a876-cbeec1b0e64d",
   "metadata": {},
   "outputs": [],
   "source": [
    "countByCityDF = rawDF.groupby('country').count()"
   ]
  },
  {
   "cell_type": "code",
   "execution_count": 76,
   "id": "a52206e0-6986-4ace-9c22-ebdca7f81836",
   "metadata": {},
   "outputs": [
    {
     "name": "stdout",
     "output_type": "stream",
     "text": [
      "+-------+-----+\n",
      "|country|count|\n",
      "+-------+-----+\n",
      "| Russia|   53|\n",
      "+-------+-----+\n",
      "\n"
     ]
    }
   ],
   "source": [
    "countByCityDF.filter(\"country='Russia'\").show()"
   ]
  },
  {
   "cell_type": "code",
   "execution_count": 82,
   "id": "ca0bf1e0-4d86-4fad-8e47-39b304e8cb37",
   "metadata": {},
   "outputs": [
    {
     "name": "stdout",
     "output_type": "stream",
     "text": [
      "+---+----------+--------------------+--------------------+----------+-----------+-----------------+\n",
      "| id|first_name|           last_name|               email|    gender|    country|             city|\n",
      "+---+----------+--------------------+--------------------+----------+-----------+-----------------+\n",
      "|501|    Dalton|             Meineck| dmeineckdw@webs.com|      Male|Philippines|          Bagulin|\n",
      "|502|   Branden|             Lebourn|blebourndx@apache...|      Male|      China|          Sunfang|\n",
      "|503|     Tabor|              Robert|    trobertdy@un.org|      Male|   Thailand|         Mukdahan|\n",
      "|504|Georgeanna|             Causbey|gcausbeydz@flickr...|    Female|    Ireland|    Bailieborough|\n",
      "|505|    Dorine|            Bellison| dbellisone0@com.com|    Female|      China|         Lingyuan|\n",
      "|506|    Rustin|            Halleday|rhalledaye1@scien...|Polygender|      Syria|   Al Ghizlānīyah|\n",
      "|507|   Shaylah|         Hollingsbee|shollingsbeee2@co...|    Female|    Vietnam|      Xuân Trường|\n",
      "|508|   Andonis|             Tesdale|atesdalee3@topsy.com|      Male|     Serbia|Sremska Mitrovica|\n",
      "|509|      Hart|               Skuse|   hskusee4@hibu.com|      Male|   Malaysia|       Alor Setar|\n",
      "|510|   Amaleta|            Lamminam|alamminame5@pcwor...|Polygender|     France|            Nancy|\n",
      "|511|   Vidovik|             Goligly|vgoliglye6@washin...|      Male|    Denmark|        København|\n",
      "|512|     Trina|                Broz|   tbroze7@goo.ne.jp|    Female|     Russia|         Maslovka|\n",
      "|513|     Drugi|             Fortnum|dfortnume8@samsun...|Polygender|      Japan|          Maizuru|\n",
      "|514|     Joana|              Gianni|   jgiannie9@usa.gov|Non-binary|    Ireland|     Caherconlish|\n",
      "|515|      Gale|               Neate|gneateea@gravatar...|      Male|      China|           Waihai|\n",
      "|516|  Darlleen|          Kinningley| dkinningleyeb@ow.ly|    Female|      China|       Shuangjing|\n",
      "|517|    Dulcie|              Parvin|dparvinec@yahoo.c...|    Female|      China|          Huangbu|\n",
      "|518|   Reynold|             Claiden|rclaidened@vimeo.com|      Male|Philippines|            Duran|\n",
      "|519|  Jeremiah|Weddeburn - Scrim...|jweddeburnscrimge...|      Male|   Colombia|           Galapa|\n",
      "|520|   Kristan|             Bechley|   kbechleyef@goo.gl|    Female|     Russia|    Yegorlykskaya|\n",
      "+---+----------+--------------------+--------------------+----------+-----------+-----------------+\n",
      "only showing top 20 rows\n",
      "\n"
     ]
    }
   ],
   "source": [
    "rawDF.filter(\"id >  500\").show()"
   ]
  },
  {
   "cell_type": "code",
   "execution_count": 86,
   "id": "c353f7ea-5e46-48e1-a83a-91d02b2a4f8f",
   "metadata": {},
   "outputs": [
    {
     "name": "stdout",
     "output_type": "stream",
     "text": [
      "+---+----------+--------------------+--------------------+----------+-----------+-----------------+\n",
      "| id|first_name|           last_name|               email|    gender|    country|             city|\n",
      "+---+----------+--------------------+--------------------+----------+-----------+-----------------+\n",
      "|501|    Dalton|             Meineck| dmeineckdw@webs.com|      Male|Philippines|          Bagulin|\n",
      "|502|   Branden|             Lebourn|blebourndx@apache...|      Male|      China|          Sunfang|\n",
      "|503|     Tabor|              Robert|    trobertdy@un.org|      Male|   Thailand|         Mukdahan|\n",
      "|504|Georgeanna|             Causbey|gcausbeydz@flickr...|    Female|    Ireland|    Bailieborough|\n",
      "|505|    Dorine|            Bellison| dbellisone0@com.com|    Female|      China|         Lingyuan|\n",
      "|506|    Rustin|            Halleday|rhalledaye1@scien...|Polygender|      Syria|   Al Ghizlānīyah|\n",
      "|507|   Shaylah|         Hollingsbee|shollingsbeee2@co...|    Female|    Vietnam|      Xuân Trường|\n",
      "|508|   Andonis|             Tesdale|atesdalee3@topsy.com|      Male|     Serbia|Sremska Mitrovica|\n",
      "|509|      Hart|               Skuse|   hskusee4@hibu.com|      Male|   Malaysia|       Alor Setar|\n",
      "|510|   Amaleta|            Lamminam|alamminame5@pcwor...|Polygender|     France|            Nancy|\n",
      "|511|   Vidovik|             Goligly|vgoliglye6@washin...|      Male|    Denmark|        København|\n",
      "|512|     Trina|                Broz|   tbroze7@goo.ne.jp|    Female|     Russia|         Maslovka|\n",
      "|513|     Drugi|             Fortnum|dfortnume8@samsun...|Polygender|      Japan|          Maizuru|\n",
      "|514|     Joana|              Gianni|   jgiannie9@usa.gov|Non-binary|    Ireland|     Caherconlish|\n",
      "|515|      Gale|               Neate|gneateea@gravatar...|      Male|      China|           Waihai|\n",
      "|516|  Darlleen|          Kinningley| dkinningleyeb@ow.ly|    Female|      China|       Shuangjing|\n",
      "|517|    Dulcie|              Parvin|dparvinec@yahoo.c...|    Female|      China|          Huangbu|\n",
      "|518|   Reynold|             Claiden|rclaidened@vimeo.com|      Male|Philippines|            Duran|\n",
      "|519|  Jeremiah|Weddeburn - Scrim...|jweddeburnscrimge...|      Male|   Colombia|           Galapa|\n",
      "|520|   Kristan|             Bechley|   kbechleyef@goo.gl|    Female|     Russia|    Yegorlykskaya|\n",
      "+---+----------+--------------------+--------------------+----------+-----------+-----------------+\n",
      "only showing top 20 rows\n",
      "\n"
     ]
    }
   ],
   "source": [
    "rawDF.filter(rawDF['id'] > 500).show()"
   ]
  },
  {
   "cell_type": "code",
   "execution_count": 89,
   "id": "6aaf389f",
   "metadata": {},
   "outputs": [],
   "source": [
    "gender_count = rawDF.groupBy(\"gender\").count()"
   ]
  },
  {
   "cell_type": "code",
   "execution_count": 90,
   "id": "2b796847",
   "metadata": {},
   "outputs": [
    {
     "name": "stdout",
     "output_type": "stream",
     "text": [
      "+-----------+-----+\n",
      "|     gender|count|\n",
      "+-----------+-----+\n",
      "|Genderqueer|   23|\n",
      "|    Agender|   22|\n",
      "|     Female|  442|\n",
      "| Polygender|   16|\n",
      "|   Bigender|   19|\n",
      "| Non-binary|   25|\n",
      "|       Male|  441|\n",
      "|Genderfluid|   12|\n",
      "+-----------+-----+\n",
      "\n"
     ]
    }
   ],
   "source": [
    "gender_count.show()"
   ]
  },
  {
   "cell_type": "code",
   "execution_count": 92,
   "id": "4fc6b7b4",
   "metadata": {},
   "outputs": [
    {
     "name": "stdout",
     "output_type": "stream",
     "text": [
      "+--------------+-----------+-----+\n",
      "|       country|     gender|count|\n",
      "+--------------+-----------+-----+\n",
      "|        Zambia|Genderfluid|    1|\n",
      "|         Yemen|     Female|    4|\n",
      "|         Yemen|       Male|    2|\n",
      "|       Vietnam|     Female|    6|\n",
      "|       Vietnam|       Male|    5|\n",
      "|       Vietnam|    Agender|    1|\n",
      "|     Venezuela|     Female|    7|\n",
      "|     Venezuela| Non-binary|    1|\n",
      "|    Uzbekistan|       Male|    2|\n",
      "| United States|       Male|   10|\n",
      "| United States|     Female|    8|\n",
      "| United States|Genderfluid|    1|\n",
      "|United Kingdom|     Female|    1|\n",
      "|United Kingdom|       Male|    1|\n",
      "|       Ukraine|       Male|    7|\n",
      "|       Ukraine|     Female|    6|\n",
      "|       Ukraine| Polygender|    1|\n",
      "|       Ukraine| Non-binary|    1|\n",
      "|        Uganda|     Female|    2|\n",
      "|        Uganda|    Agender|    1|\n",
      "+--------------+-----------+-----+\n",
      "only showing top 20 rows\n",
      "\n"
     ]
    }
   ],
   "source": [
    "country_gender_distribution = rawDF.groupBy(\"country\", \"gender\").count().orderBy(\"country\", \"count\", ascending=False)\n",
    "country_gender_distribution.show()"
   ]
  },
  {
   "cell_type": "code",
   "execution_count": 10,
   "id": "1e93b730",
   "metadata": {},
   "outputs": [
    {
     "name": "stdout",
     "output_type": "stream",
     "text": [
      "+--------------+-----------+----------+------------+---------------+-----------------+\n",
      "|       country|total_count|male_count|female_count|male_percentage|female_percentage|\n",
      "+--------------+-----------+----------+------------+---------------+-----------------+\n",
      "|         China|        199|        83|          88|          41.71|            44.22|\n",
      "|     Indonesia|         99|        42|          49|          42.42|            49.49|\n",
      "|   Philippines|         59|        25|          27|          42.37|            45.76|\n",
      "|        Russia|         53|        30|          19|           56.6|            35.85|\n",
      "|        Brazil|         37|        21|          14|          56.76|            37.84|\n",
      "|        Poland|         36|        14|          16|          38.89|            44.44|\n",
      "|      Portugal|         36|        18|          17|           50.0|            47.22|\n",
      "|        France|         27|        14|          11|          51.85|            40.74|\n",
      "|          Peru|         22|         8|          10|          36.36|            45.45|\n",
      "|        Sweden|         19|        12|           6|          63.16|            31.58|\n",
      "| United States|         19|        10|           8|          52.63|            42.11|\n",
      "|      Thailand|         17|         9|           7|          52.94|            41.18|\n",
      "|        Greece|         15|         7|           7|          46.67|            46.67|\n",
      "|       Ukraine|         15|         7|           6|          46.67|             40.0|\n",
      "|Czech Republic|         13|         6|           5|          46.15|            38.46|\n",
      "|     Argentina|         12|         4|           6|          33.33|             50.0|\n",
      "|      Colombia|         12|         6|           3|           50.0|             25.0|\n",
      "|         Japan|         12|         3|           4|           25.0|            33.33|\n",
      "|       Vietnam|         12|         5|           6|          41.67|             50.0|\n",
      "|       Nigeria|         11|         6|           3|          54.55|            27.27|\n",
      "+--------------+-----------+----------+------------+---------------+-----------------+\n",
      "only showing top 20 rows\n",
      "\n"
     ]
    }
   ],
   "source": [
    "from pyspark.sql.functions import col, count, when, sum, round\n",
    "\n",
    "# Ülkelere göre cinsiyet dağılımı ve oranları\n",
    "country_gender_analysis = rawDF.groupBy(\"country\") \\\n",
    "    .agg(\n",
    "        count(\"*\").alias(\"total_count\"),\n",
    "        count(when(col(\"gender\") == \"Male\", True)).alias(\"male_count\"),\n",
    "        count(when(col(\"gender\") == \"Female\", True)).alias(\"female_count\"),\n",
    "        round(count(when(col(\"gender\") == \"Male\", True)) / count(\"*\") * 100, 2).alias(\"male_percentage\"),\n",
    "        round(count(when(col(\"gender\") == \"Female\", True)) / count(\"*\") * 100, 2).alias(\"female_percentage\")\n",
    "    ) \\\n",
    "    .orderBy(col(\"total_count\").desc())\n",
    "\n",
    "country_gender_analysis.show()"
   ]
  },
  {
   "cell_type": "code",
   "execution_count": 11,
   "id": "34b185e9",
   "metadata": {},
   "outputs": [
    {
     "name": "stdout",
     "output_type": "stream",
     "text": [
      "+---+----------+------------+-------+-------------+---------------------+\n",
      "|id |first_name|last_name   |gender |country      |city                 |\n",
      "+---+----------+------------+-------+-------------+---------------------+\n",
      "|1  |Denys     |Schiefersten|Female |Brazil       |Paty do Alferes      |\n",
      "|2  |Kimberley |Christophe  |Female |Indonesia    |Puutura              |\n",
      "|3  |Burr      |Fursey      |Male   |Andorra      |la Massana           |\n",
      "|4  |Otis      |Marriot     |Male   |China        |Wutun                |\n",
      "|5  |Chester   |Trahearn    |Male   |Colombia     |Popayán              |\n",
      "|6  |Humbert   |Dacres      |Male   |Russia       |Zhukovskiy           |\n",
      "|7  |Nikoletta |Hickisson   |Female |China        |Tianbao              |\n",
      "|8  |Quincy    |Rough       |Agender|Peru         |Carumas              |\n",
      "|9  |Marcy     |Debill      |Female |China        |Boshi                |\n",
      "|10 |Nate      |Scotson     |Male   |Portugal     |Mafra                |\n",
      "|11 |Juliann   |Rewbottom   |Female |Brazil       |Iturama              |\n",
      "|12 |Zebedee   |Downgate    |Male   |United States|Oklahoma City        |\n",
      "|13 |Guss      |Von Brook   |Male   |Thailand     |Sawankhalok          |\n",
      "|14 |Angele    |Ilden       |Female |Venezuela    |Caucagüito           |\n",
      "|15 |Roxanna   |Winks       |Female |South Africa |Mankoeng             |\n",
      "|16 |Dulce     |Brito       |Female |Peru         |Mollepampa           |\n",
      "|17 |Cecilio   |Brabban     |Male   |France       |La Plaine-Saint-Denis|\n",
      "|18 |Abel      |Deware      |Male   |Ukraine      |Novopokrovka         |\n",
      "|19 |Rochester |Jost        |Male   |China        |Hexi                 |\n",
      "|20 |Rowan     |Pawelski    |Male   |Costa Rica   |Cañas                |\n",
      "+---+----------+------------+-------+-------------+---------------------+\n",
      "only showing top 20 rows\n",
      "\n"
     ]
    }
   ],
   "source": [
    "rawDF.drop('email').show(truncate=False)"
   ]
  },
  {
   "cell_type": "code",
   "execution_count": 12,
   "id": "f41af48c",
   "metadata": {},
   "outputs": [
    {
     "name": "stdout",
     "output_type": "stream",
     "text": [
      "+---+---------+------------+--------------------+-------+-------------+--------------------+\n",
      "| id|     name|   last_name|               email| gender|      country|                city|\n",
      "+---+---------+------------+--------------------+-------+-------------+--------------------+\n",
      "|  1|    Denys|Schiefersten|dschiefersten0@ch...| Female|       Brazil|     Paty do Alferes|\n",
      "|  2|Kimberley|  Christophe|kchristophe1@icio.us| Female|    Indonesia|             Puutura|\n",
      "|  3|     Burr|      Fursey|bfursey2@hostgato...|   Male|      Andorra|          la Massana|\n",
      "|  4|     Otis|     Marriot| omarriot3@diigo.com|   Male|        China|               Wutun|\n",
      "|  5|  Chester|    Trahearn| ctrahearn4@yale.edu|   Male|     Colombia|             Popayán|\n",
      "|  6|  Humbert|      Dacres|  hdacres5@weibo.com|   Male|       Russia|          Zhukovskiy|\n",
      "|  7|Nikoletta|   Hickisson|nhickisson6@weibo...| Female|        China|             Tianbao|\n",
      "|  8|   Quincy|       Rough|qrough7@ezinearti...|Agender|         Peru|             Carumas|\n",
      "|  9|    Marcy|      Debill|mdebill8@skyrock.com| Female|        China|               Boshi|\n",
      "| 10|     Nate|     Scotson|nscotson9@mashabl...|   Male|     Portugal|               Mafra|\n",
      "| 11|  Juliann|   Rewbottom|jrewbottoma@amebl...| Female|       Brazil|             Iturama|\n",
      "| 12|  Zebedee|    Downgate|zdowngateb@blogge...|   Male|United States|       Oklahoma City|\n",
      "| 13|     Guss|   Von Brook|gvonbrookc@sfgate...|   Male|     Thailand|         Sawankhalok|\n",
      "| 14|   Angele|       Ilden|aildend@nationalg...| Female|    Venezuela|          Caucagüito|\n",
      "| 15|  Roxanna|       Winks| rwinkse@reuters.com| Female| South Africa|            Mankoeng|\n",
      "| 16|    Dulce|       Brito|  dbritof@boston.com| Female|         Peru|          Mollepampa|\n",
      "| 17|  Cecilio|     Brabban|   cbrabbang@last.fm|   Male|       France|La Plaine-Saint-D...|\n",
      "| 18|     Abel|      Deware|   adewareh@live.com|   Male|      Ukraine|        Novopokrovka|\n",
      "| 19|Rochester|        Jost|rjosti@miibeian.g...|   Male|        China|                Hexi|\n",
      "| 20|    Rowan|    Pawelski|rpawelskij@istock...|   Male|   Costa Rica|               Cañas|\n",
      "+---+---------+------------+--------------------+-------+-------------+--------------------+\n",
      "only showing top 20 rows\n",
      "\n"
     ]
    }
   ],
   "source": [
    "renamedDF = rawDF.withColumnRenamed(\"first_name\", \"name\")\n",
    "renamedDF.show()"
   ]
  },
  {
   "cell_type": "code",
   "execution_count": 13,
   "id": "b823ce53",
   "metadata": {},
   "outputs": [
    {
     "data": {
      "text/plain": [
       "DataFrame[id: int, first_name: string, last_name: string, email: string, gender: string, country: string, city: string]"
      ]
     },
     "metadata": {},
     "output_type": "display_data"
    }
   ],
   "source": [
    "display(rawDF)"
   ]
  },
  {
   "cell_type": "code",
   "execution_count": 7,
   "id": "5d902805",
   "metadata": {},
   "outputs": [
    {
     "data": {
      "image/png": "[encoded data removed]",
      "text/plain": [
       "<Figure size 1200x600 with 1 Axes>"
      ]
     },
     "metadata": {},
     "output_type": "display_data"
    }
   ],
   "source": [
    "import matplotlib.pyplot as plt\n",
    "\n",
    "# En çok görülen 10 ülkeyi seçelim\n",
    "top_countries = rawDF.groupBy(\"country\").count().orderBy(\"count\", ascending=False).limit(10)\n",
    "\n",
    "# PySpark DataFrame'ini Pandas DataFrame'ine çevirelim\n",
    "top_countries_pd = top_countries.toPandas()\n",
    "\n",
    "# Görselleştirme\n",
    "plt.figure(figsize=(12,6))\n",
    "plt.bar(top_countries_pd['country'], top_countries_pd['count'])\n",
    "plt.title('En Çok Görülen 10 Ülke')\n",
    "plt.xlabel('Ülke')\n",
    "plt.ylabel('Kişi Sayısı')\n",
    "plt.xticks(rotation=45)\n",
    "plt.tight_layout()\n",
    "plt.show()"
   ]
  },
  {
   "cell_type": "code",
   "execution_count": 9,
   "id": "f188b3d5",
   "metadata": {},
   "outputs": [
    {
     "name": "stdout",
     "output_type": "stream",
     "text": [
      "+---+----------+------------+---------------------------------+-------+-------------+---------------------+\n",
      "|id |first_name|last_name   |email                            |gender |country      |city                 |\n",
      "+---+----------+------------+---------------------------------+-------+-------------+---------------------+\n",
      "|1  |Denys     |Schiefersten|dschiefersten0@chicagotribune.com|Female |Brazil       |Paty do Alferes      |\n",
      "|2  |Kimberley |Christophe  |kchristophe1@icio.us             |Female |Indonesia    |Puutura              |\n",
      "|3  |Burr      |Fursey      |bfursey2@hostgator.com           |Male   |Andorra      |la Massana           |\n",
      "|4  |Otis      |Marriot     |omarriot3@diigo.com              |Male   |China        |Wutun                |\n",
      "|5  |Chester   |Trahearn    |ctrahearn4@yale.edu              |Male   |Colombia     |Popayán              |\n",
      "|6  |Humbert   |Dacres      |hdacres5@weibo.com               |Male   |Russia       |Zhukovskiy           |\n",
      "|7  |Nikoletta |Hickisson   |nhickisson6@weibo.com            |Female |China        |Tianbao              |\n",
      "|8  |Quincy    |Rough       |qrough7@ezinearticles.com        |Agender|Peru         |Carumas              |\n",
      "|9  |Marcy     |Debill      |mdebill8@skyrock.com             |Female |China        |Boshi                |\n",
      "|10 |Nate      |Scotson     |nscotson9@mashable.com           |Male   |Portugal     |Mafra                |\n",
      "|11 |Juliann   |Rewbottom   |jrewbottoma@ameblo.jp            |Female |Brazil       |Iturama              |\n",
      "|12 |Zebedee   |Downgate    |zdowngateb@blogger.com           |Male   |United States|Oklahoma City        |\n",
      "|13 |Guss      |Von Brook   |gvonbrookc@sfgate.com            |Male   |Thailand     |Sawankhalok          |\n",
      "|14 |Angele    |Ilden       |aildend@nationalgeographic.com   |Female |Venezuela    |Caucagüito           |\n",
      "|15 |Roxanna   |Winks       |rwinkse@reuters.com              |Female |South Africa |Mankoeng             |\n",
      "|16 |Dulce     |Brito       |dbritof@boston.com               |Female |Peru         |Mollepampa           |\n",
      "|17 |Cecilio   |Brabban     |cbrabbang@last.fm                |Male   |France       |La Plaine-Saint-Denis|\n",
      "|18 |Abel      |Deware      |adewareh@live.com                |Male   |Ukraine      |Novopokrovka         |\n",
      "|19 |Rochester |Jost        |rjosti@miibeian.gov.cn           |Male   |China        |Hexi                 |\n",
      "|20 |Rowan     |Pawelski    |rpawelskij@istockphoto.com       |Male   |Costa Rica   |Cañas                |\n",
      "+---+----------+------------+---------------------------------+-------+-------------+---------------------+\n",
      "only showing top 20 rows\n",
      "\n"
     ]
    }
   ],
   "source": [
    "rawDF.show(truncate=False)"
   ]
  },
  {
   "cell_type": "code",
   "execution_count": 42,
   "id": "c59de1f6",
   "metadata": {},
   "outputs": [
    {
     "name": "stdout",
     "output_type": "stream",
     "text": [
      "+--------------+------------+\n",
      "|country       |total_cities|\n",
      "+--------------+------------+\n",
      "|China         |195         |\n",
      "|Indonesia     |98          |\n",
      "|Philippines   |58          |\n",
      "|Russia        |52          |\n",
      "|Brazil        |37          |\n",
      "|Poland        |36          |\n",
      "|Portugal      |35          |\n",
      "|France        |26          |\n",
      "|Peru          |22          |\n",
      "|Sweden        |18          |\n",
      "|United States |18          |\n",
      "|Thailand      |17          |\n",
      "|Ukraine       |15          |\n",
      "|Greece        |15          |\n",
      "|Czech Republic|13          |\n",
      "|Argentina     |12          |\n",
      "|Vietnam       |12          |\n",
      "|Colombia      |11          |\n",
      "|Canada        |11          |\n",
      "|Japan         |11          |\n",
      "+--------------+------------+\n",
      "only showing top 20 rows\n",
      "\n"
     ]
    }
   ],
   "source": [
    "from pyspark.sql.functions import countDistinct\n",
    "\n",
    "# Ülkelere göre toplam şehir sayısını hesapla\n",
    "city_count_by_country = rawDF.groupBy(\"country\") \\\n",
    "    .agg(countDistinct(\"city\").alias(\"total_cities\")) \\\n",
    "    .orderBy(\"total_cities\", ascending=False)\n",
    "\n",
    "# Sonuçları göster\n",
    "city_count_by_country.show(truncate=False) "
   ]
  },
  {
   "cell_type": "code",
   "execution_count": 10,
   "id": "8f5752cd",
   "metadata": {},
   "outputs": [],
   "source": [
    "rawDF.createOrReplaceTempView(\"mock_data_table\")"
   ]
  },
  {
   "cell_type": "code",
   "execution_count": 16,
   "id": "8484aa38",
   "metadata": {},
   "outputs": [],
   "source": [
    "sql = SparkSession.sql"
   ]
  },
  {
   "cell_type": "code",
   "execution_count": 17,
   "id": "a8f7a2fe",
   "metadata": {},
   "outputs": [
    {
     "name": "stdout",
     "output_type": "stream",
     "text": [
      "+---+----------+--------------------+--------------------+----------+-----------+-----------------+\n",
      "| id|first_name|           last_name|               email|    gender|    country|             city|\n",
      "+---+----------+--------------------+--------------------+----------+-----------+-----------------+\n",
      "|501|    Dalton|             Meineck| dmeineckdw@webs.com|      Male|Philippines|          Bagulin|\n",
      "|502|   Branden|             Lebourn|blebourndx@apache...|      Male|      China|          Sunfang|\n",
      "|503|     Tabor|              Robert|    trobertdy@un.org|      Male|   Thailand|         Mukdahan|\n",
      "|504|Georgeanna|             Causbey|gcausbeydz@flickr...|    Female|    Ireland|    Bailieborough|\n",
      "|505|    Dorine|            Bellison| dbellisone0@com.com|    Female|      China|         Lingyuan|\n",
      "|506|    Rustin|            Halleday|rhalledaye1@scien...|Polygender|      Syria|   Al Ghizlānīyah|\n",
      "|507|   Shaylah|         Hollingsbee|shollingsbeee2@co...|    Female|    Vietnam|      Xuân Trường|\n",
      "|508|   Andonis|             Tesdale|atesdalee3@topsy.com|      Male|     Serbia|Sremska Mitrovica|\n",
      "|509|      Hart|               Skuse|   hskusee4@hibu.com|      Male|   Malaysia|       Alor Setar|\n",
      "|510|   Amaleta|            Lamminam|alamminame5@pcwor...|Polygender|     France|            Nancy|\n",
      "|511|   Vidovik|             Goligly|vgoliglye6@washin...|      Male|    Denmark|        København|\n",
      "|512|     Trina|                Broz|   tbroze7@goo.ne.jp|    Female|     Russia|         Maslovka|\n",
      "|513|     Drugi|             Fortnum|dfortnume8@samsun...|Polygender|      Japan|          Maizuru|\n",
      "|514|     Joana|              Gianni|   jgiannie9@usa.gov|Non-binary|    Ireland|     Caherconlish|\n",
      "|515|      Gale|               Neate|gneateea@gravatar...|      Male|      China|           Waihai|\n",
      "|516|  Darlleen|          Kinningley| dkinningleyeb@ow.ly|    Female|      China|       Shuangjing|\n",
      "|517|    Dulcie|              Parvin|dparvinec@yahoo.c...|    Female|      China|          Huangbu|\n",
      "|518|   Reynold|             Claiden|rclaidened@vimeo.com|      Male|Philippines|            Duran|\n",
      "|519|  Jeremiah|Weddeburn - Scrim...|jweddeburnscrimge...|      Male|   Colombia|           Galapa|\n",
      "|520|   Kristan|             Bechley|   kbechleyef@goo.gl|    Female|     Russia|    Yegorlykskaya|\n",
      "+---+----------+--------------------+--------------------+----------+-----------+-----------------+\n",
      "only showing top 20 rows\n",
      "\n"
     ]
    }
   ],
   "source": [
    "sql(\"SELECT * FROM mock_data_table WHERE id > 500\").show()"
   ]
  },
  {
   "cell_type": "code",
   "execution_count": 18,
   "id": "64ce3150",
   "metadata": {},
   "outputs": [
    {
     "name": "stdout",
     "output_type": "stream",
     "text": [
      "+-----------+-----+\n",
      "|     gender|count|\n",
      "+-----------+-----+\n",
      "|Genderqueer|   23|\n",
      "|    Agender|   22|\n",
      "|     Female|  442|\n",
      "| Polygender|   16|\n",
      "|   Bigender|   19|\n",
      "| Non-binary|   25|\n",
      "|       Male|  441|\n",
      "|Genderfluid|   12|\n",
      "+-----------+-----+\n",
      "\n"
     ]
    }
   ],
   "source": [
    "sql(\"SELECT gender, COUNT(*) as count FROM mock_data_table GROUP BY gender\").show()"
   ]
  },
  {
   "cell_type": "code",
   "execution_count": 31,
   "id": "7b5f73ae",
   "metadata": {},
   "outputs": [
    {
     "name": "stdout",
     "output_type": "stream",
     "text": [
      "+---------------------------------+-------------+\n",
      "|email                            |country      |\n",
      "+---------------------------------+-------------+\n",
      "|dschiefersten0@chicagotribune.com|Brazil       |\n",
      "|kchristophe1@icio.us             |Indonesia    |\n",
      "|bfursey2@hostgator.com           |Andorra      |\n",
      "|omarriot3@diigo.com              |China        |\n",
      "|ctrahearn4@yale.edu              |Colombia     |\n",
      "|hdacres5@weibo.com               |Russia       |\n",
      "|nhickisson6@weibo.com            |China        |\n",
      "|qrough7@ezinearticles.com        |Peru         |\n",
      "|mdebill8@skyrock.com             |China        |\n",
      "|nscotson9@mashable.com           |Portugal     |\n",
      "|jrewbottoma@ameblo.jp            |Brazil       |\n",
      "|zdowngateb@blogger.com           |United States|\n",
      "|gvonbrookc@sfgate.com            |Thailand     |\n",
      "|aildend@nationalgeographic.com   |Venezuela    |\n",
      "|rwinkse@reuters.com              |South Africa |\n",
      "|dbritof@boston.com               |Peru         |\n",
      "|cbrabbang@last.fm                |France       |\n",
      "|adewareh@live.com                |Ukraine      |\n",
      "|rjosti@miibeian.gov.cn           |China        |\n",
      "|rpawelskij@istockphoto.com       |Costa Rica   |\n",
      "+---------------------------------+-------------+\n",
      "only showing top 20 rows\n",
      "\n"
     ]
    }
   ],
   "source": [
    "sql(\"select email, country from mock_data_table\").show(truncate=False)"
   ]
  },
  {
   "cell_type": "code",
   "execution_count": 27,
   "id": "15f995eb",
   "metadata": {},
   "outputs": [
    {
     "name": "stdout",
     "output_type": "stream",
     "text": [
      "+--------------+-----------+----------+------------+---------------+-----------------+\n",
      "|country       |total_count|male_count|female_count|male_percentage|female_percentage|\n",
      "+--------------+-----------+----------+------------+---------------+-----------------+\n",
      "|China         |199        |83        |88          |41.71          |44.22            |\n",
      "|Indonesia     |99         |42        |49          |42.42          |49.49            |\n",
      "|Philippines   |59         |25        |27          |42.37          |45.76            |\n",
      "|Russia        |53         |30        |19          |56.6           |35.85            |\n",
      "|Brazil        |37         |21        |14          |56.76          |37.84            |\n",
      "|Poland        |36         |14        |16          |38.89          |44.44            |\n",
      "|Portugal      |36         |18        |17          |50.0           |47.22            |\n",
      "|France        |27         |14        |11          |51.85          |40.74            |\n",
      "|Peru          |22         |8         |10          |36.36          |45.45            |\n",
      "|Sweden        |19         |12        |6           |63.16          |31.58            |\n",
      "|United States |19         |10        |8           |52.63          |42.11            |\n",
      "|Thailand      |17         |9         |7           |52.94          |41.18            |\n",
      "|Greece        |15         |7         |7           |46.67          |46.67            |\n",
      "|Ukraine       |15         |7         |6           |46.67          |40.0             |\n",
      "|Czech Republic|13         |6         |5           |46.15          |38.46            |\n",
      "|Argentina     |12         |4         |6           |33.33          |50.0             |\n",
      "|Colombia      |12         |6         |3           |50.0           |25.0             |\n",
      "|Japan         |12         |3         |4           |25.0           |33.33            |\n",
      "|Vietnam       |12         |5         |6           |41.67          |50.0             |\n",
      "|Nigeria       |11         |6         |3           |54.55          |27.27            |\n",
      "+--------------+-----------+----------+------------+---------------+-----------------+\n",
      "only showing top 20 rows\n",
      "\n"
     ]
    }
   ],
   "source": [
    "country_gender_analysis.show(truncate=False)"
   ]
  },
  {
   "cell_type": "code",
   "execution_count": 38,
   "id": "6a34a939",
   "metadata": {},
   "outputs": [
    {
     "name": "stdout",
     "output_type": "stream",
     "text": [
      "+---+----------+----------+-----------------------------+-----------+-------+-----------+\n",
      "|id |first_name|last_name |email                        |gender     |country|city       |\n",
      "+---+----------+----------+-----------------------------+-----------+-------+-----------+\n",
      "|4  |Otis      |Marriot   |omarriot3@diigo.com          |Male       |China  |Wutun      |\n",
      "|7  |Nikoletta |Hickisson |nhickisson6@weibo.com        |Female     |China  |Tianbao    |\n",
      "|9  |Marcy     |Debill    |mdebill8@skyrock.com         |Female     |China  |Boshi      |\n",
      "|19 |Rochester |Jost      |rjosti@miibeian.gov.cn       |Male       |China  |Hexi       |\n",
      "|24 |Haroun    |Shovelton |hshoveltonn@indiatimes.com   |Male       |China  |Shuikou    |\n",
      "|27 |Samaria   |Axcell    |saxcellq@ifeng.com           |Female     |China  |Paizhou    |\n",
      "|30 |Nichole   |Saby      |nsabyt@is.gd                 |Female     |China  |Siqiao     |\n",
      "|36 |Eamon     |Overy     |eoveryz@bigcartel.com        |Male       |China  |Sujitan    |\n",
      "|43 |Aldo      |Geane     |ageane16@altervista.org      |Male       |China  |Xing’an    |\n",
      "|50 |Kendrick  |Peschka   |kpeschka1d@nih.gov           |Male       |China  |Shuigou’ao |\n",
      "|54 |Oswald    |Shayes    |oshayes1h@google.co.jp       |Bigender   |China  |Yucheng    |\n",
      "|57 |Tan       |Mussalli  |tmussalli1k@goo.gl           |Male       |China  |Guangming  |\n",
      "|59 |Robb      |Philott   |rphilott1m@seattletimes.com  |Male       |China  |Changtan   |\n",
      "|61 |Jaynell   |Capineer  |jcapineer1o@ask.com          |Female     |China  |Xin’an     |\n",
      "|62 |Quintin   |Mineghelli|qmineghelli1p@is.gd          |Male       |China  |Jinsheng   |\n",
      "|67 |Mufinella |Allnutt   |mallnutt1u@macromedia.com    |Female     |China  |Pipa       |\n",
      "|70 |Justinn   |Callingham|jcallingham1x@squarespace.com|Female     |China  |Xushangqiao|\n",
      "|82 |Cordey    |Brodest   |cbrodest29@yelp.com          |Female     |China  |Dongmafang |\n",
      "|84 |Nevsa     |Brealey   |nbrealey2b@theatlantic.com   |Female     |China  |Shuangshan |\n",
      "|117|Nathalia  |Graffham  |ngraffham38@parallels.com    |Genderqueer|China  |Gyigang    |\n",
      "+---+----------+----------+-----------------------------+-----------+-------+-----------+\n",
      "only showing top 20 rows\n",
      "\n"
     ]
    }
   ],
   "source": [
    "# country si Turkey olanları getir\n",
    "\n",
    "sql(\"SELECT * FROM mock_data_table WHERE country = 'China'\").show(truncate=False)"
   ]
  },
  {
   "cell_type": "code",
   "execution_count": 42,
   "id": "ca9dd23d",
   "metadata": {},
   "outputs": [],
   "source": [
    "personrawDF = SparkSession.read.csv(\"person.csv\", header=True, inferSchema=True)"
   ]
  },
  {
   "cell_type": "code",
   "execution_count": 44,
   "id": "610de6cb",
   "metadata": {},
   "outputs": [
    {
     "name": "stdout",
     "output_type": "stream",
     "text": [
      "+-------+-----+-------+-----------------+-------+\n",
      "|summary|isim |soyisim|yas              |sehir  |\n",
      "+-------+-----+-------+-----------------+-------+\n",
      "|count  |8    |8      |8                |8      |\n",
      "|mean   |NULL |NULL   |28.8             |NULL   |\n",
      "|stddev |NULL |NULL   |5.890670590009257|NULL   |\n",
      "|min    |Burak|Bulut  |22               |Aksaray|\n",
      "|max    |Ömer |önüm   |null             |İzmir  |\n",
      "+-------+-----+-------+-----------------+-------+\n",
      "\n"
     ]
    }
   ],
   "source": [
    "personrawDF.describe().show(truncate=False)"
   ]
  },
  {
   "cell_type": "code",
   "execution_count": 45,
   "id": "0914465a",
   "metadata": {},
   "outputs": [],
   "source": [
    "SparkSession = SparkSession.builder.appName(\"My second spark work\").getOrCreate()"
   ]
  },
  {
   "cell_type": "code",
   "execution_count": 47,
   "id": "13b5529b",
   "metadata": {},
   "outputs": [
    {
     "data": {
      "text/plain": [
       "DataFrame[isim: string, soyisim: string, yas: string, sehir: string]"
      ]
     },
     "execution_count": 47,
     "metadata": {},
     "output_type": "execute_result"
    }
   ],
   "source": [
    "personrawDF = SparkSession.read.csv(\"person.csv\", header=True, inferSchema=True)"
   ]
  },
  {
   "cell_type": "code",
   "execution_count": 48,
   "id": "a3486e97",
   "metadata": {},
   "outputs": [
    {
     "name": "stdout",
     "output_type": "stream",
     "text": [
      "+---------+--------+----+--------+\n",
      "|     isim| soyisim| yas|   sehir|\n",
      "+---------+--------+----+--------+\n",
      "|   Mehmet|   Fırat|  25|  Ankara|\n",
      "|     Mert|Mertoğlu|  28|İstanbuş|\n",
      "| Bünyamin|    önüm|null|   İzmir|\n",
      "|   Selçuk|    null|null|   Konya|\n",
      "|     null|    null|  37| Kocaeli|\n",
      "|     Ömer| çorapçı|null|    null|\n",
      "|    Burak| Korkmaz|  32|    null|\n",
      "|hasan Can|   Bulut|  22| Aksaray|\n",
      "+---------+--------+----+--------+\n",
      "\n"
     ]
    }
   ],
   "source": [
    "personrawDF.show()"
   ]
  },
  {
   "cell_type": "code",
   "execution_count": 55,
   "id": "97e92784",
   "metadata": {},
   "outputs": [
    {
     "name": "stdout",
     "output_type": "stream",
     "text": [
      "+---------+--------+----+--------+\n",
      "|     isim| soyisim| yas|   sehir|\n",
      "+---------+--------+----+--------+\n",
      "|   Mehmet|   Fırat|  25|  Ankara|\n",
      "|     Mert|Mertoğlu|  28|İstanbuş|\n",
      "| Bünyamin|    önüm|null|   İzmir|\n",
      "|   Selçuk|    null|null|   Konya|\n",
      "|     null|    null|  37| Kocaeli|\n",
      "|     Ömer| çorapçı|null|    null|\n",
      "|    Burak| Korkmaz|  32|    null|\n",
      "|hasan Can|   Bulut|  22| Aksaray|\n",
      "+---------+--------+----+--------+\n",
      "\n"
     ]
    }
   ],
   "source": [
    "personrawDF.na.drop().show()"
   ]
  },
  {
   "cell_type": "code",
   "execution_count": null,
   "id": "cc9c57c5",
   "metadata": {},
   "outputs": [],
   "source": []
  }
 ],
 "metadata": {
  "kernelspec": {
   "display_name": "Python 3 (ipykernel)",
   "language": "python",
   "name": "python3"
  },
  "language_info": {
   "codemirror_mode": {
    "name": "ipython",
    "version": 3
   },
   "file_extension": ".py",
   "mimetype": "text/x-python",
   "name": "python",
   "nbconvert_exporter": "python",
   "pygments_lexer": "ipython3",
   "version": "3.11.6"
  }
 },
 "nbformat": 4,
 "nbformat_minor": 5
}
