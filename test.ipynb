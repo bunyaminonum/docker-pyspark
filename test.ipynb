{
 "cells": [
  {
   "cell_type": "code",
   "execution_count": 12,
   "id": "922b9a66-12b3-40d7-a95b-b5d17f48a52c",
   "metadata": {},
   "outputs": [],
   "source": [
    "from pyspark.sql import SparkSession\n",
    "from pyspark.sql.types import StructType, StructField, StringType"
   ]
  },
  {
   "cell_type": "code",
   "execution_count": 18,
   "id": "24547325-0601-45f7-ba02-12b85d81e426",
   "metadata": {},
   "outputs": [],
   "source": [
    "SparkSession = SparkSession.builder.appName(\"My first spark work\").getOrCreate()"
   ]
  },
  {
   "cell_type": "code",
   "execution_count": 19,
   "id": "307352ec-bbe5-4188-9f3f-d8c3f723d739",
   "metadata": {},
   "outputs": [
    {
     "data": {
      "text/html": [
       "\n",
       "            <div>\n",
       "                <p><b>SparkSession - in-memory</b></p>\n",
       "                \n",
       "        <div>\n",
       "            <p><b>SparkContext</b></p>\n",
       "\n",
       "            <p><a href=\"http://8a857bd6319c:4040\">Spark UI</a></p>\n",
       "\n",
       "            <dl>\n",
       "              <dt>Version</dt>\n",
       "                <dd><code>v3.5.0</code></dd>\n",
       "              <dt>Master</dt>\n",
       "                <dd><code>local[*]</code></dd>\n",
       "              <dt>AppName</dt>\n",
       "                <dd><code>My first spark work</code></dd>\n",
       "            </dl>\n",
       "        </div>\n",
       "        \n",
       "            </div>\n",
       "        "
      ],
      "text/plain": [
       "<pyspark.sql.session.SparkSession at 0x7f7548538dd0>"
      ]
     },
     "execution_count": 19,
     "metadata": {},
     "output_type": "execute_result"
    }
   ],
   "source": [
    "SparkSession"
   ]
  },
  {
   "cell_type": "markdown",
   "id": "6e905e99-f9a5-4270-8bb8-e2b7496a883b",
   "metadata": {},
   "source": [
    " **header = \"true\"** ile Spark, CSV'deki ilk satırı sütun başlıkları olarak kabul eder. **inferSchema = True** ile Spark, sütunların veri türlerini otomatik olarak belirler."
   ]
  },
  {
   "cell_type": "code",
   "execution_count": 40,
   "id": "a3d793c7-2e93-4028-9ca8-103a32c9caab",
   "metadata": {},
   "outputs": [],
   "source": [
    "rawDF = SparkSession.read.csv(\"MOCK_DATA.csv\", header=\"true\", inferSchema=True)"
   ]
  },
  {
   "cell_type": "code",
   "execution_count": 41,
   "id": "c4e2f6fd-c866-4beb-a503-11ed8b036645",
   "metadata": {},
   "outputs": [
    {
     "name": "stdout",
     "output_type": "stream",
     "text": [
      "+---+----------+------------+--------------------+-------+-------------+--------------------+\n",
      "| id|first_name|   last_name|               email| gender|      country|                city|\n",
      "+---+----------+------------+--------------------+-------+-------------+--------------------+\n",
      "|  1|     Denys|Schiefersten|dschiefersten0@ch...| Female|       Brazil|     Paty do Alferes|\n",
      "|  2| Kimberley|  Christophe|kchristophe1@icio.us| Female|    Indonesia|             Puutura|\n",
      "|  3|      Burr|      Fursey|bfursey2@hostgato...|   Male|      Andorra|          la Massana|\n",
      "|  4|      Otis|     Marriot| omarriot3@diigo.com|   Male|        China|               Wutun|\n",
      "|  5|   Chester|    Trahearn| ctrahearn4@yale.edu|   Male|     Colombia|             Popayán|\n",
      "|  6|   Humbert|      Dacres|  hdacres5@weibo.com|   Male|       Russia|          Zhukovskiy|\n",
      "|  7| Nikoletta|   Hickisson|nhickisson6@weibo...| Female|        China|             Tianbao|\n",
      "|  8|    Quincy|       Rough|qrough7@ezinearti...|Agender|         Peru|             Carumas|\n",
      "|  9|     Marcy|      Debill|mdebill8@skyrock.com| Female|        China|               Boshi|\n",
      "| 10|      Nate|     Scotson|nscotson9@mashabl...|   Male|     Portugal|               Mafra|\n",
      "| 11|   Juliann|   Rewbottom|jrewbottoma@amebl...| Female|       Brazil|             Iturama|\n",
      "| 12|   Zebedee|    Downgate|zdowngateb@blogge...|   Male|United States|       Oklahoma City|\n",
      "| 13|      Guss|   Von Brook|gvonbrookc@sfgate...|   Male|     Thailand|         Sawankhalok|\n",
      "| 14|    Angele|       Ilden|aildend@nationalg...| Female|    Venezuela|          Caucagüito|\n",
      "| 15|   Roxanna|       Winks| rwinkse@reuters.com| Female| South Africa|            Mankoeng|\n",
      "| 16|     Dulce|       Brito|  dbritof@boston.com| Female|         Peru|          Mollepampa|\n",
      "| 17|   Cecilio|     Brabban|   cbrabbang@last.fm|   Male|       France|La Plaine-Saint-D...|\n",
      "| 18|      Abel|      Deware|   adewareh@live.com|   Male|      Ukraine|        Novopokrovka|\n",
      "| 19| Rochester|        Jost|rjosti@miibeian.g...|   Male|        China|                Hexi|\n",
      "| 20|     Rowan|    Pawelski|rpawelskij@istock...|   Male|   Costa Rica|               Cañas|\n",
      "+---+----------+------------+--------------------+-------+-------------+--------------------+\n",
      "only showing top 20 rows\n",
      "\n"
     ]
    }
   ],
   "source": [
    "rawDF.show()"
   ]
  },
  {
   "cell_type": "code",
   "execution_count": 42,
   "id": "ae17c359-00bf-429f-ba5f-531ccfc9bf6f",
   "metadata": {},
   "outputs": [
    {
     "name": "stdout",
     "output_type": "stream",
     "text": [
      "root\n",
      " |-- id: integer (nullable = true)\n",
      " |-- first_name: string (nullable = true)\n",
      " |-- last_name: string (nullable = true)\n",
      " |-- email: string (nullable = true)\n",
      " |-- gender: string (nullable = true)\n",
      " |-- country: string (nullable = true)\n",
      " |-- city: string (nullable = true)\n",
      "\n"
     ]
    }
   ],
   "source": [
    "rawDF.printSchema()"
   ]
  },
  {
   "cell_type": "code",
   "execution_count": 45,
   "id": "bb3da3a9-9588-43ab-a9ee-5146ebb234d8",
   "metadata": {},
   "outputs": [
    {
     "name": "stdout",
     "output_type": "stream",
     "text": [
      "+---+----------+------------+---------------------------------+-------+-------------+---------------------+\n",
      "|id |first_name|last_name   |email                            |gender |country      |city                 |\n",
      "+---+----------+------------+---------------------------------+-------+-------------+---------------------+\n",
      "|1  |Denys     |Schiefersten|dschiefersten0@chicagotribune.com|Female |Brazil       |Paty do Alferes      |\n",
      "|2  |Kimberley |Christophe  |kchristophe1@icio.us             |Female |Indonesia    |Puutura              |\n",
      "|3  |Burr      |Fursey      |bfursey2@hostgator.com           |Male   |Andorra      |la Massana           |\n",
      "|4  |Otis      |Marriot     |omarriot3@diigo.com              |Male   |China        |Wutun                |\n",
      "|5  |Chester   |Trahearn    |ctrahearn4@yale.edu              |Male   |Colombia     |Popayán              |\n",
      "|6  |Humbert   |Dacres      |hdacres5@weibo.com               |Male   |Russia       |Zhukovskiy           |\n",
      "|7  |Nikoletta |Hickisson   |nhickisson6@weibo.com            |Female |China        |Tianbao              |\n",
      "|8  |Quincy    |Rough       |qrough7@ezinearticles.com        |Agender|Peru         |Carumas              |\n",
      "|9  |Marcy     |Debill      |mdebill8@skyrock.com             |Female |China        |Boshi                |\n",
      "|10 |Nate      |Scotson     |nscotson9@mashable.com           |Male   |Portugal     |Mafra                |\n",
      "|11 |Juliann   |Rewbottom   |jrewbottoma@ameblo.jp            |Female |Brazil       |Iturama              |\n",
      "|12 |Zebedee   |Downgate    |zdowngateb@blogger.com           |Male   |United States|Oklahoma City        |\n",
      "|13 |Guss      |Von Brook   |gvonbrookc@sfgate.com            |Male   |Thailand     |Sawankhalok          |\n",
      "|14 |Angele    |Ilden       |aildend@nationalgeographic.com   |Female |Venezuela    |Caucagüito           |\n",
      "|15 |Roxanna   |Winks       |rwinkse@reuters.com              |Female |South Africa |Mankoeng             |\n",
      "|16 |Dulce     |Brito       |dbritof@boston.com               |Female |Peru         |Mollepampa           |\n",
      "|17 |Cecilio   |Brabban     |cbrabbang@last.fm                |Male   |France       |La Plaine-Saint-Denis|\n",
      "|18 |Abel      |Deware      |adewareh@live.com                |Male   |Ukraine      |Novopokrovka         |\n",
      "|19 |Rochester |Jost        |rjosti@miibeian.gov.cn           |Male   |China        |Hexi                 |\n",
      "|20 |Rowan     |Pawelski    |rpawelskij@istockphoto.com       |Male   |Costa Rica   |Cañas                |\n",
      "+---+----------+------------+---------------------------------+-------+-------------+---------------------+\n",
      "only showing top 20 rows\n",
      "\n"
     ]
    }
   ],
   "source": [
    "rawDF.show(truncate=False)"
   ]
  },
  {
   "cell_type": "code",
   "execution_count": 47,
   "id": "8be52831-3d18-4219-82ac-d84c7f51d89e",
   "metadata": {},
   "outputs": [
    {
     "data": {
      "text/plain": [
       "list"
      ]
     },
     "execution_count": 47,
     "metadata": {},
     "output_type": "execute_result"
    }
   ],
   "source": [
    "type(rawDF.columns)"
   ]
  },
  {
   "cell_type": "code",
   "execution_count": 48,
   "id": "3bdc6468-a999-4ef0-9ec4-de3a9e95ba26",
   "metadata": {},
   "outputs": [
    {
     "data": {
      "text/plain": [
       "['id', 'first_name', 'last_name', 'email', 'gender', 'country', 'city']"
      ]
     },
     "execution_count": 48,
     "metadata": {},
     "output_type": "execute_result"
    }
   ],
   "source": [
    "rawDF.columns"
   ]
  },
  {
   "cell_type": "code",
   "execution_count": 50,
   "id": "7d9e5b5c-2adc-4d2d-9a88-49430a309543",
   "metadata": {},
   "outputs": [
    {
     "data": {
      "text/plain": [
       "1000"
      ]
     },
     "execution_count": 50,
     "metadata": {},
     "output_type": "execute_result"
    }
   ],
   "source": [
    "rawDF.count()"
   ]
  },
  {
   "cell_type": "code",
   "execution_count": 53,
   "id": "217e6288-ed0f-453e-83aa-c3ebdbb0c95c",
   "metadata": {},
   "outputs": [
    {
     "data": {
      "text/plain": [
       "[Row(id=1, first_name='Denys', last_name='Schiefersten', email='dschiefersten0@chicagotribune.com', gender='Female', country='Brazil', city='Paty do Alferes'),\n",
       " Row(id=2, first_name='Kimberley', last_name='Christophe', email='kchristophe1@icio.us', gender='Female', country='Indonesia', city='Puutura')]"
      ]
     },
     "execution_count": 53,
     "metadata": {},
     "output_type": "execute_result"
    }
   ],
   "source": [
    "rawDF.head(2)"
   ]
  },
  {
   "cell_type": "code",
   "execution_count": 61,
   "id": "446e2af8-880f-4cbc-8c87-601288da4978",
   "metadata": {},
   "outputs": [],
   "source": [
    "nameCountryDF = rawDF.select('first_name', 'country')"
   ]
  },
  {
   "cell_type": "code",
   "execution_count": 62,
   "id": "204d50d4-c2e2-47dc-b5be-6f74944b42f5",
   "metadata": {},
   "outputs": [
    {
     "name": "stdout",
     "output_type": "stream",
     "text": [
      "+----------+-------------+\n",
      "|first_name|      country|\n",
      "+----------+-------------+\n",
      "|     Denys|       Brazil|\n",
      "| Kimberley|    Indonesia|\n",
      "|      Burr|      Andorra|\n",
      "|      Otis|        China|\n",
      "|   Chester|     Colombia|\n",
      "|   Humbert|       Russia|\n",
      "| Nikoletta|        China|\n",
      "|    Quincy|         Peru|\n",
      "|     Marcy|        China|\n",
      "|      Nate|     Portugal|\n",
      "|   Juliann|       Brazil|\n",
      "|   Zebedee|United States|\n",
      "|      Guss|     Thailand|\n",
      "|    Angele|    Venezuela|\n",
      "|   Roxanna| South Africa|\n",
      "|     Dulce|         Peru|\n",
      "|   Cecilio|       France|\n",
      "|      Abel|      Ukraine|\n",
      "| Rochester|        China|\n",
      "|     Rowan|   Costa Rica|\n",
      "+----------+-------------+\n",
      "only showing top 20 rows\n",
      "\n"
     ]
    }
   ],
   "source": [
    "nameCountryDF.show()"
   ]
  },
  {
   "cell_type": "code",
   "execution_count": 64,
   "id": "4b1e36cb-8031-4d17-90da-4d26eb5dea8f",
   "metadata": {},
   "outputs": [
    {
     "name": "stdout",
     "output_type": "stream",
     "text": [
      "+-------+-----------------+----------+----------+------------------------+----------+-----------+-----------+\n",
      "|summary|id               |first_name|last_name |email                   |gender    |country    |city       |\n",
      "+-------+-----------------+----------+----------+------------------------+----------+-----------+-----------+\n",
      "|count  |1000             |1000      |1000      |1000                    |1000      |1000       |1000       |\n",
      "|mean   |500.5            |NULL      |NULL      |NULL                    |NULL      |NULL       |NULL       |\n",
      "|stddev |288.8194360957494|NULL      |NULL      |NULL                    |NULL      |NULL       |NULL       |\n",
      "|min    |1                |Aaron     |Abade     |aagent4h@plala.or.jp    |Agender   |Afghanistan|Abomsa     |\n",
      "|max    |1000             |Zsa zsa   |de Bullion|zsteadmanmx@edublogs.org|Polygender|Zambia     |Ḩammām Damt|\n",
      "+-------+-----------------+----------+----------+------------------------+----------+-----------+-----------+\n",
      "\n"
     ]
    }
   ],
   "source": [
    "rawDF.describe().show(truncate=False)"
   ]
  },
  {
   "cell_type": "code",
   "execution_count": 69,
   "id": "68fa719e-3a01-4bb5-bd91-97d0950d0f4b",
   "metadata": {},
   "outputs": [],
   "source": [
    "neweIdDF = rawDF.withColumn('new_id', rawDF['id'] + 1000)"
   ]
  },
  {
   "cell_type": "code",
   "execution_count": 70,
   "id": "cc1d2cad-0fb0-4ae2-b314-3959ece2eca9",
   "metadata": {},
   "outputs": [
    {
     "name": "stdout",
     "output_type": "stream",
     "text": [
      "+---+----------+------------+--------------------+-------+-------------+--------------------+------+\n",
      "| id|first_name|   last_name|               email| gender|      country|                city|new_id|\n",
      "+---+----------+------------+--------------------+-------+-------------+--------------------+------+\n",
      "|  1|     Denys|Schiefersten|dschiefersten0@ch...| Female|       Brazil|     Paty do Alferes|  1001|\n",
      "|  2| Kimberley|  Christophe|kchristophe1@icio.us| Female|    Indonesia|             Puutura|  1002|\n",
      "|  3|      Burr|      Fursey|bfursey2@hostgato...|   Male|      Andorra|          la Massana|  1003|\n",
      "|  4|      Otis|     Marriot| omarriot3@diigo.com|   Male|        China|               Wutun|  1004|\n",
      "|  5|   Chester|    Trahearn| ctrahearn4@yale.edu|   Male|     Colombia|             Popayán|  1005|\n",
      "|  6|   Humbert|      Dacres|  hdacres5@weibo.com|   Male|       Russia|          Zhukovskiy|  1006|\n",
      "|  7| Nikoletta|   Hickisson|nhickisson6@weibo...| Female|        China|             Tianbao|  1007|\n",
      "|  8|    Quincy|       Rough|qrough7@ezinearti...|Agender|         Peru|             Carumas|  1008|\n",
      "|  9|     Marcy|      Debill|mdebill8@skyrock.com| Female|        China|               Boshi|  1009|\n",
      "| 10|      Nate|     Scotson|nscotson9@mashabl...|   Male|     Portugal|               Mafra|  1010|\n",
      "| 11|   Juliann|   Rewbottom|jrewbottoma@amebl...| Female|       Brazil|             Iturama|  1011|\n",
      "| 12|   Zebedee|    Downgate|zdowngateb@blogge...|   Male|United States|       Oklahoma City|  1012|\n",
      "| 13|      Guss|   Von Brook|gvonbrookc@sfgate...|   Male|     Thailand|         Sawankhalok|  1013|\n",
      "| 14|    Angele|       Ilden|aildend@nationalg...| Female|    Venezuela|          Caucagüito|  1014|\n",
      "| 15|   Roxanna|       Winks| rwinkse@reuters.com| Female| South Africa|            Mankoeng|  1015|\n",
      "| 16|     Dulce|       Brito|  dbritof@boston.com| Female|         Peru|          Mollepampa|  1016|\n",
      "| 17|   Cecilio|     Brabban|   cbrabbang@last.fm|   Male|       France|La Plaine-Saint-D...|  1017|\n",
      "| 18|      Abel|      Deware|   adewareh@live.com|   Male|      Ukraine|        Novopokrovka|  1018|\n",
      "| 19| Rochester|        Jost|rjosti@miibeian.g...|   Male|        China|                Hexi|  1019|\n",
      "| 20|     Rowan|    Pawelski|rpawelskij@istock...|   Male|   Costa Rica|               Cañas|  1020|\n",
      "+---+----------+------------+--------------------+-------+-------------+--------------------+------+\n",
      "only showing top 20 rows\n",
      "\n"
     ]
    }
   ],
   "source": [
    "neweIdDF.show()"
   ]
  },
  {
   "cell_type": "code",
   "execution_count": 73,
   "id": "5643981e-dcae-484c-a876-cbeec1b0e64d",
   "metadata": {},
   "outputs": [],
   "source": [
    "countByCityDF = rawDF.groupby('country').count()"
   ]
  },
  {
   "cell_type": "code",
   "execution_count": 76,
   "id": "a52206e0-6986-4ace-9c22-ebdca7f81836",
   "metadata": {},
   "outputs": [
    {
     "name": "stdout",
     "output_type": "stream",
     "text": [
      "+-------+-----+\n",
      "|country|count|\n",
      "+-------+-----+\n",
      "| Russia|   53|\n",
      "+-------+-----+\n",
      "\n"
     ]
    }
   ],
   "source": [
    "countByCityDF.filter(\"country='Russia'\").show()"
   ]
  },
  {
   "cell_type": "code",
   "execution_count": 82,
   "id": "ca0bf1e0-4d86-4fad-8e47-39b304e8cb37",
   "metadata": {},
   "outputs": [
    {
     "name": "stdout",
     "output_type": "stream",
     "text": [
      "+---+----------+--------------------+--------------------+----------+-----------+-----------------+\n",
      "| id|first_name|           last_name|               email|    gender|    country|             city|\n",
      "+---+----------+--------------------+--------------------+----------+-----------+-----------------+\n",
      "|501|    Dalton|             Meineck| dmeineckdw@webs.com|      Male|Philippines|          Bagulin|\n",
      "|502|   Branden|             Lebourn|blebourndx@apache...|      Male|      China|          Sunfang|\n",
      "|503|     Tabor|              Robert|    trobertdy@un.org|      Male|   Thailand|         Mukdahan|\n",
      "|504|Georgeanna|             Causbey|gcausbeydz@flickr...|    Female|    Ireland|    Bailieborough|\n",
      "|505|    Dorine|            Bellison| dbellisone0@com.com|    Female|      China|         Lingyuan|\n",
      "|506|    Rustin|            Halleday|rhalledaye1@scien...|Polygender|      Syria|   Al Ghizlānīyah|\n",
      "|507|   Shaylah|         Hollingsbee|shollingsbeee2@co...|    Female|    Vietnam|      Xuân Trường|\n",
      "|508|   Andonis|             Tesdale|atesdalee3@topsy.com|      Male|     Serbia|Sremska Mitrovica|\n",
      "|509|      Hart|               Skuse|   hskusee4@hibu.com|      Male|   Malaysia|       Alor Setar|\n",
      "|510|   Amaleta|            Lamminam|alamminame5@pcwor...|Polygender|     France|            Nancy|\n",
      "|511|   Vidovik|             Goligly|vgoliglye6@washin...|      Male|    Denmark|        København|\n",
      "|512|     Trina|                Broz|   tbroze7@goo.ne.jp|    Female|     Russia|         Maslovka|\n",
      "|513|     Drugi|             Fortnum|dfortnume8@samsun...|Polygender|      Japan|          Maizuru|\n",
      "|514|     Joana|              Gianni|   jgiannie9@usa.gov|Non-binary|    Ireland|     Caherconlish|\n",
      "|515|      Gale|               Neate|gneateea@gravatar...|      Male|      China|           Waihai|\n",
      "|516|  Darlleen|          Kinningley| dkinningleyeb@ow.ly|    Female|      China|       Shuangjing|\n",
      "|517|    Dulcie|              Parvin|dparvinec@yahoo.c...|    Female|      China|          Huangbu|\n",
      "|518|   Reynold|             Claiden|rclaidened@vimeo.com|      Male|Philippines|            Duran|\n",
      "|519|  Jeremiah|Weddeburn - Scrim...|jweddeburnscrimge...|      Male|   Colombia|           Galapa|\n",
      "|520|   Kristan|             Bechley|   kbechleyef@goo.gl|    Female|     Russia|    Yegorlykskaya|\n",
      "+---+----------+--------------------+--------------------+----------+-----------+-----------------+\n",
      "only showing top 20 rows\n",
      "\n"
     ]
    }
   ],
   "source": [
    "rawDF.filter(\"id >  500\").show()"
   ]
  },
  {
   "cell_type": "code",
   "execution_count": 86,
   "id": "c353f7ea-5e46-48e1-a83a-91d02b2a4f8f",
   "metadata": {},
   "outputs": [
    {
     "name": "stdout",
     "output_type": "stream",
     "text": [
      "+---+----------+--------------------+--------------------+----------+-----------+-----------------+\n",
      "| id|first_name|           last_name|               email|    gender|    country|             city|\n",
      "+---+----------+--------------------+--------------------+----------+-----------+-----------------+\n",
      "|501|    Dalton|             Meineck| dmeineckdw@webs.com|      Male|Philippines|          Bagulin|\n",
      "|502|   Branden|             Lebourn|blebourndx@apache...|      Male|      China|          Sunfang|\n",
      "|503|     Tabor|              Robert|    trobertdy@un.org|      Male|   Thailand|         Mukdahan|\n",
      "|504|Georgeanna|             Causbey|gcausbeydz@flickr...|    Female|    Ireland|    Bailieborough|\n",
      "|505|    Dorine|            Bellison| dbellisone0@com.com|    Female|      China|         Lingyuan|\n",
      "|506|    Rustin|            Halleday|rhalledaye1@scien...|Polygender|      Syria|   Al Ghizlānīyah|\n",
      "|507|   Shaylah|         Hollingsbee|shollingsbeee2@co...|    Female|    Vietnam|      Xuân Trường|\n",
      "|508|   Andonis|             Tesdale|atesdalee3@topsy.com|      Male|     Serbia|Sremska Mitrovica|\n",
      "|509|      Hart|               Skuse|   hskusee4@hibu.com|      Male|   Malaysia|       Alor Setar|\n",
      "|510|   Amaleta|            Lamminam|alamminame5@pcwor...|Polygender|     France|            Nancy|\n",
      "|511|   Vidovik|             Goligly|vgoliglye6@washin...|      Male|    Denmark|        København|\n",
      "|512|     Trina|                Broz|   tbroze7@goo.ne.jp|    Female|     Russia|         Maslovka|\n",
      "|513|     Drugi|             Fortnum|dfortnume8@samsun...|Polygender|      Japan|          Maizuru|\n",
      "|514|     Joana|              Gianni|   jgiannie9@usa.gov|Non-binary|    Ireland|     Caherconlish|\n",
      "|515|      Gale|               Neate|gneateea@gravatar...|      Male|      China|           Waihai|\n",
      "|516|  Darlleen|          Kinningley| dkinningleyeb@ow.ly|    Female|      China|       Shuangjing|\n",
      "|517|    Dulcie|              Parvin|dparvinec@yahoo.c...|    Female|      China|          Huangbu|\n",
      "|518|   Reynold|             Claiden|rclaidened@vimeo.com|      Male|Philippines|            Duran|\n",
      "|519|  Jeremiah|Weddeburn - Scrim...|jweddeburnscrimge...|      Male|   Colombia|           Galapa|\n",
      "|520|   Kristan|             Bechley|   kbechleyef@goo.gl|    Female|     Russia|    Yegorlykskaya|\n",
      "+---+----------+--------------------+--------------------+----------+-----------+-----------------+\n",
      "only showing top 20 rows\n",
      "\n"
     ]
    }
   ],
   "source": [
    "rawDF.filter(rawDF['id'] > 500).show()"
   ]
  },
  {
   "cell_type": "code",
   "execution_count": 87,
   "id": "6aaf389f",
   "metadata": {},
   "outputs": [
    {
     "ename": "AnalysisException",
     "evalue": "[UNRESOLVED_COLUMN.WITH_SUGGESTION] A column or function parameter with name `age` cannot be resolved. Did you mean one of the following? [`id`, `first_name`, `last_name`, `email`, `gender`, `country`, `city`].",
     "output_type": "error",
     "traceback": [
      "\u001b[0;31m---------------------------------------------------------------------------\u001b[0m",
      "\u001b[0;31mAnalysisException\u001b[0m                         Traceback (most recent call last)",
      "Cell \u001b[0;32mIn[87], line 1\u001b[0m\n\u001b[0;32m----> 1\u001b[0m avgAgeByGender \u001b[38;5;241m=\u001b[39m \u001b[43mrawDF\u001b[49m\u001b[38;5;241;43m.\u001b[39;49m\u001b[43mgroupBy\u001b[49m\u001b[43m(\u001b[49m\u001b[38;5;124;43m\"\u001b[39;49m\u001b[38;5;124;43mgender\u001b[39;49m\u001b[38;5;124;43m\"\u001b[39;49m\u001b[43m)\u001b[49m\u001b[38;5;241;43m.\u001b[39;49m\u001b[43mavg\u001b[49m\u001b[43m(\u001b[49m\u001b[38;5;124;43m\"\u001b[39;49m\u001b[38;5;124;43mage\u001b[39;49m\u001b[38;5;124;43m\"\u001b[39;49m\u001b[43m)\u001b[49m\n\u001b[1;32m      2\u001b[0m avgAgeByGender\u001b[38;5;241m.\u001b[39mshow()\n",
      "File \u001b[0;32m/usr/local/spark/python/pyspark/sql/group.py:49\u001b[0m, in \u001b[0;36mdf_varargs_api.<locals>._api\u001b[0;34m(self, *cols)\u001b[0m\n\u001b[1;32m     47\u001b[0m \u001b[38;5;28;01mdef\u001b[39;00m \u001b[38;5;21m_api\u001b[39m(\u001b[38;5;28mself\u001b[39m: \u001b[38;5;124m\"\u001b[39m\u001b[38;5;124mGroupedData\u001b[39m\u001b[38;5;124m\"\u001b[39m, \u001b[38;5;241m*\u001b[39mcols: \u001b[38;5;28mstr\u001b[39m) \u001b[38;5;241m-\u001b[39m\u001b[38;5;241m>\u001b[39m DataFrame:\n\u001b[1;32m     48\u001b[0m     name \u001b[38;5;241m=\u001b[39m f\u001b[38;5;241m.\u001b[39m\u001b[38;5;18m__name__\u001b[39m\n\u001b[0;32m---> 49\u001b[0m     jdf \u001b[38;5;241m=\u001b[39m \u001b[38;5;28;43mgetattr\u001b[39;49m\u001b[43m(\u001b[49m\u001b[38;5;28;43mself\u001b[39;49m\u001b[38;5;241;43m.\u001b[39;49m\u001b[43m_jgd\u001b[49m\u001b[43m,\u001b[49m\u001b[43m \u001b[49m\u001b[43mname\u001b[49m\u001b[43m)\u001b[49m\u001b[43m(\u001b[49m\u001b[43m_to_seq\u001b[49m\u001b[43m(\u001b[49m\u001b[38;5;28;43mself\u001b[39;49m\u001b[38;5;241;43m.\u001b[39;49m\u001b[43msession\u001b[49m\u001b[38;5;241;43m.\u001b[39;49m\u001b[43m_sc\u001b[49m\u001b[43m,\u001b[49m\u001b[43m \u001b[49m\u001b[43mcols\u001b[49m\u001b[43m)\u001b[49m\u001b[43m)\u001b[49m\n\u001b[1;32m     50\u001b[0m     \u001b[38;5;28;01mreturn\u001b[39;00m DataFrame(jdf, \u001b[38;5;28mself\u001b[39m\u001b[38;5;241m.\u001b[39msession)\n",
      "File \u001b[0;32m/usr/local/spark/python/lib/py4j-0.10.9.7-src.zip/py4j/java_gateway.py:1322\u001b[0m, in \u001b[0;36mJavaMember.__call__\u001b[0;34m(self, *args)\u001b[0m\n\u001b[1;32m   1316\u001b[0m command \u001b[38;5;241m=\u001b[39m proto\u001b[38;5;241m.\u001b[39mCALL_COMMAND_NAME \u001b[38;5;241m+\u001b[39m\\\n\u001b[1;32m   1317\u001b[0m     \u001b[38;5;28mself\u001b[39m\u001b[38;5;241m.\u001b[39mcommand_header \u001b[38;5;241m+\u001b[39m\\\n\u001b[1;32m   1318\u001b[0m     args_command \u001b[38;5;241m+\u001b[39m\\\n\u001b[1;32m   1319\u001b[0m     proto\u001b[38;5;241m.\u001b[39mEND_COMMAND_PART\n\u001b[1;32m   1321\u001b[0m answer \u001b[38;5;241m=\u001b[39m \u001b[38;5;28mself\u001b[39m\u001b[38;5;241m.\u001b[39mgateway_client\u001b[38;5;241m.\u001b[39msend_command(command)\n\u001b[0;32m-> 1322\u001b[0m return_value \u001b[38;5;241m=\u001b[39m \u001b[43mget_return_value\u001b[49m\u001b[43m(\u001b[49m\n\u001b[1;32m   1323\u001b[0m \u001b[43m    \u001b[49m\u001b[43manswer\u001b[49m\u001b[43m,\u001b[49m\u001b[43m \u001b[49m\u001b[38;5;28;43mself\u001b[39;49m\u001b[38;5;241;43m.\u001b[39;49m\u001b[43mgateway_client\u001b[49m\u001b[43m,\u001b[49m\u001b[43m \u001b[49m\u001b[38;5;28;43mself\u001b[39;49m\u001b[38;5;241;43m.\u001b[39;49m\u001b[43mtarget_id\u001b[49m\u001b[43m,\u001b[49m\u001b[43m \u001b[49m\u001b[38;5;28;43mself\u001b[39;49m\u001b[38;5;241;43m.\u001b[39;49m\u001b[43mname\u001b[49m\u001b[43m)\u001b[49m\n\u001b[1;32m   1325\u001b[0m \u001b[38;5;28;01mfor\u001b[39;00m temp_arg \u001b[38;5;129;01min\u001b[39;00m temp_args:\n\u001b[1;32m   1326\u001b[0m     \u001b[38;5;28;01mif\u001b[39;00m \u001b[38;5;28mhasattr\u001b[39m(temp_arg, \u001b[38;5;124m\"\u001b[39m\u001b[38;5;124m_detach\u001b[39m\u001b[38;5;124m\"\u001b[39m):\n",
      "File \u001b[0;32m/usr/local/spark/python/pyspark/errors/exceptions/captured.py:185\u001b[0m, in \u001b[0;36mcapture_sql_exception.<locals>.deco\u001b[0;34m(*a, **kw)\u001b[0m\n\u001b[1;32m    181\u001b[0m converted \u001b[38;5;241m=\u001b[39m convert_exception(e\u001b[38;5;241m.\u001b[39mjava_exception)\n\u001b[1;32m    182\u001b[0m \u001b[38;5;28;01mif\u001b[39;00m \u001b[38;5;129;01mnot\u001b[39;00m \u001b[38;5;28misinstance\u001b[39m(converted, UnknownException):\n\u001b[1;32m    183\u001b[0m     \u001b[38;5;66;03m# Hide where the exception came from that shows a non-Pythonic\u001b[39;00m\n\u001b[1;32m    184\u001b[0m     \u001b[38;5;66;03m# JVM exception message.\u001b[39;00m\n\u001b[0;32m--> 185\u001b[0m     \u001b[38;5;28;01mraise\u001b[39;00m converted \u001b[38;5;28;01mfrom\u001b[39;00m \u001b[38;5;28;01mNone\u001b[39;00m\n\u001b[1;32m    186\u001b[0m \u001b[38;5;28;01melse\u001b[39;00m:\n\u001b[1;32m    187\u001b[0m     \u001b[38;5;28;01mraise\u001b[39;00m\n",
      "\u001b[0;31mAnalysisException\u001b[0m: [UNRESOLVED_COLUMN.WITH_SUGGESTION] A column or function parameter with name `age` cannot be resolved. Did you mean one of the following? [`id`, `first_name`, `last_name`, `email`, `gender`, `country`, `city`]."
     ]
    }
   ],
   "source": [
    "avgAgeByGender = rawDF.groupBy(\"gender\").avg(\"age\")\n",
    "avgAgeByGender.show()"
   ]
  }
 ],
 "metadata": {
  "kernelspec": {
   "display_name": "Python 3 (ipykernel)",
   "language": "python",
   "name": "python3"
  },
  "language_info": {
   "codemirror_mode": {
    "name": "ipython",
    "version": 3
   },
   "file_extension": ".py",
   "mimetype": "text/x-python",
   "name": "python",
   "nbconvert_exporter": "python",
   "pygments_lexer": "ipython3",
   "version": "3.11.6"
  }
 },
 "nbformat": 4,
 "nbformat_minor": 5
}
