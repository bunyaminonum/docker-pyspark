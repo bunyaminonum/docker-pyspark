{
 "cells": [
  {
   "cell_type": "code",
   "execution_count": 4,
   "metadata": {},
   "outputs": [
    {
     "name": "stdout",
     "output_type": "stream",
     "text": [
      "+-----+--------+--------------------+-------+---------------+------+-----+------------+-------+--------+----------------+------------------+---------+-----------------+--------+---------+----------+----------------+---------+--------------+---------------+---------------+------------------+---------------+---------------+------+\n",
      "|   ID|ITEMCODE|            ITEMNAME|FICHENO|          DATE_|AMOUNT|PRICE|LINENETTOTAL|LINENET|BRANCHNR|          BRANCH|          SALESMAN|     CITY|           REGION|LATITUDE|LONGITUDE|CLIENTCODE|      CLIENTNAME|BRANDCODE|         BRAND| CATEGORY_NAME1| CATEGORY_NAME2|    CATEGORY_NAME3|      STARTDATE|        ENDDATE|GENDER|\n",
      "+-----+--------+--------------------+-------+---------------+------+-----+------------+-------+--------+----------------+------------------+---------+-----------------+--------+---------+----------+----------------+---------+--------------+---------------+---------------+------------------+---------------+---------------+------+\n",
      "|11738|    5863|SPRITE 1 LT LIMON...|  18456|7.01.2017 00:00|     1|    2|           2|   1,85|      52|  Kocaeli Subesi|         Eyüp CİNE|  Kocaeli|          Marmara| 40,8533|  29,8815|    467369|  Sercan KIZILOK|      156|        SPRİTE|         İÇECEK|   GAZLI İÇECEK|             GAZOZ|8.01.2017 16:16|8.01.2017 16:17|     E|\n",
      "|10537|       8|           TOZ SEKER|  18105|6.01.2017 00:00|     5| 2,65|       13,25|  12,27|       8|  Antalya Subesi|      İlhan ÖRENLİ|  Antalya|          Akdeniz| 36,8841|  30,7056|    131464|    İsmet ŞINGIR|     NULL|          NULL|         İÇECEK|      ÇAY KAHVE|SEKER TATLANDIRICI|7.01.2017 11:04|7.01.2017 11:05|     E|\n",
      "|11335|    5979|FALIM SAKIZ 5LI NANE|  18350|3.01.2017 00:00|     1|  0,4|         0,4|   0,37|      40| İstanbul Subesi|      İsmet SARTIK| İstanbul|          Marmara| 41,0053|   28,977|    656969|     Yağız KUBAL|      300|         FALIM|           GIDA|SAKIZ SEKERLEME|             SAKIZ|4.01.2017 14:00|4.01.2017 14:01|     E|\n",
      "|11336|    5979|FALIM SAKIZ 5LI NANE|  18350|3.01.2017 00:00|     1|  0,4|         0,4|   0,37|      40| İstanbul Subesi|      İsmet SARTIK| İstanbul|          Marmara| 41,0053|   28,977|    656969|     Yağız KUBAL|      300|         FALIM|           GIDA|SAKIZ SEKERLEME|             SAKIZ|4.01.2017 14:00|4.01.2017 14:01|     E|\n",
      "|10115|   12808|FALIM SAKIZ 5LI C...|  18005|5.01.2017 00:00|     1|  0,4|         0,4|   0,37|      41|    İzmir Subesi|      Gülten IŞLAK|    İzmir|              Ege| 38,4189|  27,1287|    447336|    Habibe AYSAN|      300|         FALIM|           GIDA|SAKIZ SEKERLEME|             SAKIZ|6.01.2017 14:00|6.01.2017 14:01|     K|\n",
      "|10649|       8|           TOZ SEKER|  18127|6.01.2017 00:00|     2| 2,65|         5,3|   4,91|      29|   Elazığ Subesi|       Serap CARAN|   Elazığ|     Doğu Anadolu|  38,681|  39,2264|      9485|Görkem BALTAOGLU|     NULL|          NULL|         İÇECEK|      ÇAY KAHVE|SEKER TATLANDIRICI|7.01.2017 15:40|7.01.2017 15:41|     E|\n",
      "|11845|    3202|F NEFFIS TOZ SEKE...|  18476|7.01.2017 00:00|     1|  5,6|         5,6|   5,19|      55|  Malatya Subesi|     Gülcan DÜZGEÇ|  Malatya|     Doğu Anadolu| 38,3552|  38,3095|      5481| Asel LÜLECİOĞLU|       49|      F NEFFİS|         İÇECEK|      ÇAY KAHVE|SEKER TATLANDIRICI|8.01.2017 17:20|8.01.2017 17:21|     K|\n",
      "|11348|       8|           TOZ SEKER|  18354|3.01.2017 00:00|     2| 2,65|         5,3|   4,91|      40| İstanbul Subesi|       Arife DORAP| İstanbul|          Marmara| 41,0053|   28,977|    144939|      Efe HANÇAR|     NULL|          NULL|         İÇECEK|      ÇAY KAHVE|SEKER TATLANDIRICI|4.01.2017 14:40|4.01.2017 14:42|     E|\n",
      "|10545|       8|           TOZ SEKER|  18106|6.01.2017 00:00|     2| 2,65|         5,3|   4,91|      56|   Manisa Subesi|        Adil ONDIN|   Manisa|              Ege| 38,6191|  27,4289|      7874|    Melisa GÜÇİN|     NULL|          NULL|         İÇECEK|      ÇAY KAHVE|SEKER TATLANDIRICI|7.01.2017 11:08|7.01.2017 11:08|     K|\n",
      "|11411|    3205|F NEFFIS KESME SE...|  18365|3.01.2017 00:00|     1| 2,85|        2,85|   2,64|      59|    Muğla Subesi|     Remziye KESİM|    Muğla|              Ege| 37,2153|  28,3636|    784782|   Şükran COMART|       49|      F NEFFİS|         İÇECEK|      ÇAY KAHVE|SEKER TATLANDIRICI|4.01.2017 15:56|4.01.2017 15:57|     K|\n",
      "|10472|   12743|KENT TOPITOP DISN...|  18090|5.01.2017 00:00|     1|  1,6|         1,6|   1,49|      60|      Muş Subesi|     Melisa KOZGAR|      Muş|     Doğu Anadolu| 38,9462|  41,7539|    771816|    Aynur KOZGAR|       79|          KENT|           GIDA|SAKIZ SEKERLEME|         ŞEKERLEME|6.01.2017 18:44|6.01.2017 18:45|     K|\n",
      "|10304|   11340|VIVIDENT CZD FRUI...|  18040|5.01.2017 00:00|     1| 1,95|        1,95|    1,8|       1|    Adana Subesi|Ramazan SARIMEHMET|    Adana|          Akdeniz|      37|  35,3213|    630399|    Rahime KASAP|      148|      VİVİDENT|           GIDA|SAKIZ SEKERLEME|             SAKIZ|6.01.2017 19:52|6.01.2017 19:52|     K|\n",
      "|  324|    6210|LAVACHE QUIRIT UC...|  15671|2.01.2017 00:00|     1| 3,45|        3,45|   3,19|      66|  Sakarya Subesi|     İlker BALOĞLU|  Sakarya|          Marmara|  40,694|  30,4358|    600916|       Zeki ŞALO|      198|LAVACHE-KARPER|SÜT KAHVALTILIK|         PEYNİR|              NULL|3.01.2017 15:00|3.01.2017 15:02|     E|\n",
      "| 9660|    5710|       KIRMIZI BIBER|  17876|6.01.2017 00:00| 0,235| 4,95|        1,16|   1,07|      81|Zonguldak Subesi|Arzu KARAKİTAPOĞLU|Zonguldak|        Karadeniz| 41,4564|  31,7987|    575194|Hümeyra VEZNİKLİ|      A25|           HAL|    MEYVE SEBZE|          SEBZE|              NULL|7.01.2017 12:52|7.01.2017 12:53|     K|\n",
      "| 9662|    5742|        CERI DOMATES|  17876|6.01.2017 00:00|  0,76| 4,75|        3,61|   3,34|      81|Zonguldak Subesi|Arzu KARAKİTAPOĞLU|Zonguldak|        Karadeniz| 41,4564|  31,7987|    575194|Hümeyra VEZNİKLİ|      A25|           HAL|    MEYVE SEBZE|          SEBZE|              NULL|7.01.2017 12:52|7.01.2017 12:53|     K|\n",
      "| 9625|    5780|      SALKIM DOMATES|  17865|6.01.2017 00:00| 0,945|  5,2|        4,91|   4,55|      12|Balıkesir Subesi|     Sami KASIMOVA|Balıkesir|              Ege| 39,6484|  27,8826|     74884|   Miray KOÇOĞLU|      A25|           HAL|    MEYVE SEBZE|          SEBZE|              NULL|7.01.2017 11:12|7.01.2017 11:13|     K|\n",
      "| 9748|    5715|             PATATES|  17902|6.01.2017 00:00|  2,79| 2,45|        6,84|   6,33|      12|Balıkesir Subesi|     Sami KASIMOVA|Balıkesir|              Ege| 39,6484|  27,8826|    521495|    Bilal PORSUK|      A25|           HAL|    MEYVE SEBZE|          SEBZE|              NULL|7.01.2017 14:28|7.01.2017 14:29|     E|\n",
      "| 9852|    5780|      SALKIM DOMATES|  17925|6.01.2017 00:00| 0,745|  5,2|        3,87|   3,58|      48|Kırıkkale Subesi|      Sami ÇAYKARA|Kırıkkale|       İç Anadolu| 39,8468|  33,5153|    318719|   Hakan ÖZKUTEN|      A25|           HAL|    MEYVE SEBZE|          SEBZE|              NULL|7.01.2017 16:28|7.01.2017 16:29|     E|\n",
      "| 5191|    5715|             PATATES|  16870|5.01.2017 00:00| 1,235| 2,45|        3,03|   2,81|      33|Gaziantep Subesi|       Dilan BAKİR|Gaziantep|Güneydoğu Anadolu| 37,0662|  37,3833|    522358|  Neslihan ŞAMİL|      A25|           HAL|    MEYVE SEBZE|          SEBZE|              NULL|6.01.2017 11:04|6.01.2017 11:04|     K|\n",
      "| 3734|    2523|MAGGI CORBA KREMA...|  16638|5.01.2017 00:00|     1| 0,85|        0,85|   0,79|      33|Gaziantep Subesi|       Dilan BAKİR|Gaziantep|Güneydoğu Anadolu| 37,0662|  37,3833|     18004|  İlayda AKSOYLU|       90|         MAGGİ|           GIDA|   CORBA BULYON|          CORBALAR|6.01.2017 13:16|6.01.2017 13:18|     K|\n",
      "+-----+--------+--------------------+-------+---------------+------+-----+------------+-------+--------+----------------+------------------+---------+-----------------+--------+---------+----------+----------------+---------+--------------+---------------+---------------+------------------+---------------+---------------+------+\n",
      "only showing top 20 rows\n",
      "\n"
     ]
    }
   ],
   "source": [
    "from pyspark.sql import SparkSession\n",
    "\n",
    "# SparkSession oluştur\n",
    "spark = SparkSession.builder \\\n",
    "    .appName(\"CSV_Reader\") \\\n",
    "    .getOrCreate()\n",
    "\n",
    "# CSV dosyasını oku, noktalı virgül ayırıcısını kullanarak\n",
    "df = spark.read.option(\"header\", \"true\") \\\n",
    "    .option(\"delimiter\", \";\") \\\n",
    "    .option(\"inferSchema\", \"true\") \\\n",
    "    .csv(\"/home/jovyan/work/MarketSales.csv\")\n",
    "\n",
    "# Dataframe'in ilk birkaç satırını göster\n",
    "df.show()\n",
    "\n"
   ]
  },
  {
   "cell_type": "code",
   "execution_count": 16,
   "metadata": {},
   "outputs": [
    {
     "name": "stdout",
     "output_type": "stream",
     "text": [
      "+---------------+\n",
      "|          DATE_|\n",
      "+---------------+\n",
      "|7.01.2017 00:00|\n",
      "|6.01.2017 00:00|\n",
      "|3.01.2017 00:00|\n",
      "|3.01.2017 00:00|\n",
      "|5.01.2017 00:00|\n",
      "+---------------+\n",
      "only showing top 5 rows\n",
      "\n"
     ]
    }
   ],
   "source": [
    "df.select(\"DATE_\").show(5)"
   ]
  },
  {
   "cell_type": "code",
   "execution_count": 17,
   "metadata": {},
   "outputs": [
    {
     "name": "stdout",
     "output_type": "stream",
     "text": [
      "+----+-----+-----------+\n",
      "|year|month|total_sales|\n",
      "+----+-----+-----------+\n",
      "|NULL| NULL|       NULL|\n",
      "|2017|    1|    88857.0|\n",
      "|2017|    2|    91138.0|\n",
      "|2017|    3|   112005.0|\n",
      "+----+-----+-----------+\n",
      "\n"
     ]
    }
   ],
   "source": [
    "from pyspark.sql.functions import year, month, sum, to_timestamp\n",
    "\n",
    "# Tarihi doğru formata dönüştür ve yıl/ay analizini yap\n",
    "sales_trend = df.withColumn(\"DATE_FORMATTED\", to_timestamp(\"DATE_\", \"d.MM.yyyy HH:mm\")) \\\n",
    "                .withColumn(\"year\", year(\"DATE_FORMATTED\")) \\\n",
    "                .withColumn(\"month\", month(\"DATE_FORMATTED\")) \\\n",
    "                .groupBy(\"year\", \"month\") \\\n",
    "                .agg(sum(\"LINENETTOTAL\").alias(\"total_sales\")) \\\n",
    "                .orderBy(\"year\", \"month\")\n",
    "\n",
    "sales_trend.show()"
   ]
  },
  {
   "cell_type": "code",
   "execution_count": 20,
   "metadata": {},
   "outputs": [
    {
     "name": "stdout",
     "output_type": "stream",
     "text": [
      "+----+-----+-----------+\n",
      "|year|month|total_sales|\n",
      "+----+-----+-----------+\n",
      "|NULL| NULL|       NULL|\n",
      "|2017|    1|    88857.0|\n",
      "|2017|    2|    91138.0|\n",
      "|2017|    3|   112005.0|\n",
      "+----+-----+-----------+\n",
      "\n"
     ]
    }
   ],
   "source": [
    "from pyspark.sql.functions import year, month, sum, to_timestamp, datediff, max, count\n",
    "\n",
    "# Tarihi doğru formata dönüştür\n",
    "df_formatted = df.withColumn(\"DATE_FORMATTED\", to_timestamp(\"DATE_\", \"d.MM.yyyy HH:mm\"))\n",
    "\n",
    "# Yıl ve aya göre toplam satışları hesapla\n",
    "sales_trend = df_formatted.withColumn(\"year\", year(\"DATE_FORMATTED\")) \\\n",
    "                          .withColumn(\"month\", month(\"DATE_FORMATTED\")) \\\n",
    "                          .groupBy(\"year\", \"month\") \\\n",
    "                          .agg(sum(\"LINENETTOTAL\").alias(\"total_sales\")) \\\n",
    "                          .orderBy(\"year\", \"month\")\n",
    "\n",
    "sales_trend.show()"
   ]
  },
  {
   "cell_type": "code",
   "execution_count": 7,
   "metadata": {},
   "outputs": [
    {
     "name": "stdout",
     "output_type": "stream",
     "text": [
      "+----+-----+-----------+\n",
      "|year|month|total_sales|\n",
      "+----+-----+-----------+\n",
      "|NULL| NULL|       NULL|\n",
      "|2017|    1|    88857.0|\n",
      "|2017|    2|    91138.0|\n",
      "|2017|    3|   112005.0|\n",
      "+----+-----+-----------+\n",
      "\n",
      "+----------+-------+---------+--------+\n",
      "|CLIENTCODE|recency|frequency|monetary|\n",
      "+----------+-------+---------+--------+\n",
      "|   1093856|     27|       39|    14.0|\n",
      "|    536646|     22|       22|    NULL|\n",
      "|    869396|     11|       31|    13.0|\n",
      "|    924386|      1|       47|     8.0|\n",
      "|    983041|     11|       15|     8.0|\n",
      "|     17506|     42|       14|    10.0|\n",
      "|    195395|      4|       52|    NULL|\n",
      "|    164951|     36|        7|     3.0|\n",
      "|    379975|      4|       16|     9.0|\n",
      "|   1055537|      8|        8|     7.0|\n",
      "|   1080760|     54|        8|     1.0|\n",
      "|   1005313|     57|       48|    11.0|\n",
      "|   1052349|     14|       70|    14.0|\n",
      "|    350582|     36|        4|    NULL|\n",
      "|    327859|     61|        7|    NULL|\n",
      "|   1028795|      1|       22|    18.0|\n",
      "|   1068016|     46|       23|     7.0|\n",
      "|    308135|     10|       12|    43.0|\n",
      "|    621401|     61|        7|     1.0|\n",
      "|    508840|     13|       14|     1.0|\n",
      "+----------+-------+---------+--------+\n",
      "only showing top 20 rows\n",
      "\n"
     ]
    }
   ],
   "source": [
    "from pyspark.sql.functions import year, month, sum, to_timestamp, datediff, max, count, current_date, lit\n",
    "\n",
    "\n",
    "# Tarihi doğru formata dönüştür\n",
    "df_formatted = df.withColumn(\"DATE_FORMATTED\", to_timestamp(\"DATE_\", \"d.MM.yyyy HH:mm\"))\n",
    "\n",
    "# Yıl ve aya göre toplam satışları hesapla\n",
    "sales_trend = df_formatted.withColumn(\"year\", year(\"DATE_FORMATTED\")) \\\n",
    "                          .withColumn(\"month\", month(\"DATE_FORMATTED\")) \\\n",
    "                          .groupBy(\"year\", \"month\") \\\n",
    "                          .agg(sum(\"LINENETTOTAL\").alias(\"total_sales\")) \\\n",
    "                          .orderBy(\"year\", \"month\")\n",
    "\n",
    "sales_trend.show()\n",
    "\n",
    "# current_date'i bir Spark Column olarak al\n",
    "current_date_col = current_date()\n",
    "\n",
    "# RFM hesaplamasında bu Column'u kullan\n",
    "rfm = df_formatted.withColumn(\"recency\", datediff(current_date_col, \"DATE_FORMATTED\"))\n",
    "\n",
    "# Diğer işlemler...\n",
    "current_date_value = df_formatted.agg(max(\"DATE_FORMATTED\")).collect()[0][0]\n",
    "\n",
    "rfm = df_formatted.groupBy(\"CLIENTCODE\") \\\n",
    "    .agg(\n",
    "        datediff(lit(current_date_value), max(\"DATE_FORMATTED\")).alias(\"recency\"),\n",
    "        count(\"FICHENO\").alias(\"frequency\"),\n",
    "        sum(\"LINENETTOTAL\").alias(\"monetary\")\n",
    "    )\n",
    "\n",
    "rfm.show()"
   ]
  },
  {
   "cell_type": "code",
   "execution_count": null,
   "metadata": {},
   "outputs": [],
   "source": []
  }
 ],
 "metadata": {
  "kernelspec": {
   "display_name": "Python 3 (ipykernel)",
   "language": "python",
   "name": "python3"
  },
  "language_info": {
   "codemirror_mode": {
    "name": "ipython",
    "version": 3
   },
   "file_extension": ".py",
   "mimetype": "text/x-python",
   "name": "python",
   "nbconvert_exporter": "python",
   "pygments_lexer": "ipython3",
   "version": "3.11.6"
  }
 },
 "nbformat": 4,
 "nbformat_minor": 2
}
