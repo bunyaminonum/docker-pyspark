{
 "cells": [
  {
   "cell_type": "code",
   "execution_count": 2,
   "metadata": {},
   "outputs": [
    {
     "name": "stdout",
     "output_type": "stream",
     "text": [
      "+-----+--------+--------------------+-------+---------------+------+-----+------------+-------+--------+----------------+------------------+---------+-----------------+--------+---------+----------+----------------+---------+--------------+---------------+---------------+------------------+---------------+---------------+------+\n",
      "|   ID|ITEMCODE|            ITEMNAME|FICHENO|          DATE_|AMOUNT|PRICE|LINENETTOTAL|LINENET|BRANCHNR|          BRANCH|          SALESMAN|     CITY|           REGION|LATITUDE|LONGITUDE|CLIENTCODE|      CLIENTNAME|BRANDCODE|         BRAND| CATEGORY_NAME1| CATEGORY_NAME2|    CATEGORY_NAME3|      STARTDATE|        ENDDATE|GENDER|\n",
      "+-----+--------+--------------------+-------+---------------+------+-----+------------+-------+--------+----------------+------------------+---------+-----------------+--------+---------+----------+----------------+---------+--------------+---------------+---------------+------------------+---------------+---------------+------+\n",
      "|11738|    5863|SPRITE 1 LT LIMON...|  18456|7.01.2017 00:00|     1|    2|           2|   1,85|      52|  Kocaeli Subesi|         Eyüp CİNE|  Kocaeli|          Marmara| 40,8533|  29,8815|    467369|  Sercan KIZILOK|      156|        SPRİTE|         İÇECEK|   GAZLI İÇECEK|             GAZOZ|8.01.2017 16:16|8.01.2017 16:17|     E|\n",
      "|10537|       8|           TOZ SEKER|  18105|6.01.2017 00:00|     5| 2,65|       13,25|  12,27|       8|  Antalya Subesi|      İlhan ÖRENLİ|  Antalya|          Akdeniz| 36,8841|  30,7056|    131464|    İsmet ŞINGIR|     NULL|          NULL|         İÇECEK|      ÇAY KAHVE|SEKER TATLANDIRICI|7.01.2017 11:04|7.01.2017 11:05|     E|\n",
      "|11335|    5979|FALIM SAKIZ 5LI NANE|  18350|3.01.2017 00:00|     1|  0,4|         0,4|   0,37|      40| İstanbul Subesi|      İsmet SARTIK| İstanbul|          Marmara| 41,0053|   28,977|    656969|     Yağız KUBAL|      300|         FALIM|           GIDA|SAKIZ SEKERLEME|             SAKIZ|4.01.2017 14:00|4.01.2017 14:01|     E|\n",
      "|11336|    5979|FALIM SAKIZ 5LI NANE|  18350|3.01.2017 00:00|     1|  0,4|         0,4|   0,37|      40| İstanbul Subesi|      İsmet SARTIK| İstanbul|          Marmara| 41,0053|   28,977|    656969|     Yağız KUBAL|      300|         FALIM|           GIDA|SAKIZ SEKERLEME|             SAKIZ|4.01.2017 14:00|4.01.2017 14:01|     E|\n",
      "|10115|   12808|FALIM SAKIZ 5LI C...|  18005|5.01.2017 00:00|     1|  0,4|         0,4|   0,37|      41|    İzmir Subesi|      Gülten IŞLAK|    İzmir|              Ege| 38,4189|  27,1287|    447336|    Habibe AYSAN|      300|         FALIM|           GIDA|SAKIZ SEKERLEME|             SAKIZ|6.01.2017 14:00|6.01.2017 14:01|     K|\n",
      "|10649|       8|           TOZ SEKER|  18127|6.01.2017 00:00|     2| 2,65|         5,3|   4,91|      29|   Elazığ Subesi|       Serap CARAN|   Elazığ|     Doğu Anadolu|  38,681|  39,2264|      9485|Görkem BALTAOGLU|     NULL|          NULL|         İÇECEK|      ÇAY KAHVE|SEKER TATLANDIRICI|7.01.2017 15:40|7.01.2017 15:41|     E|\n",
      "|11845|    3202|F NEFFIS TOZ SEKE...|  18476|7.01.2017 00:00|     1|  5,6|         5,6|   5,19|      55|  Malatya Subesi|     Gülcan DÜZGEÇ|  Malatya|     Doğu Anadolu| 38,3552|  38,3095|      5481| Asel LÜLECİOĞLU|       49|      F NEFFİS|         İÇECEK|      ÇAY KAHVE|SEKER TATLANDIRICI|8.01.2017 17:20|8.01.2017 17:21|     K|\n",
      "|11348|       8|           TOZ SEKER|  18354|3.01.2017 00:00|     2| 2,65|         5,3|   4,91|      40| İstanbul Subesi|       Arife DORAP| İstanbul|          Marmara| 41,0053|   28,977|    144939|      Efe HANÇAR|     NULL|          NULL|         İÇECEK|      ÇAY KAHVE|SEKER TATLANDIRICI|4.01.2017 14:40|4.01.2017 14:42|     E|\n",
      "|10545|       8|           TOZ SEKER|  18106|6.01.2017 00:00|     2| 2,65|         5,3|   4,91|      56|   Manisa Subesi|        Adil ONDIN|   Manisa|              Ege| 38,6191|  27,4289|      7874|    Melisa GÜÇİN|     NULL|          NULL|         İÇECEK|      ÇAY KAHVE|SEKER TATLANDIRICI|7.01.2017 11:08|7.01.2017 11:08|     K|\n",
      "|11411|    3205|F NEFFIS KESME SE...|  18365|3.01.2017 00:00|     1| 2,85|        2,85|   2,64|      59|    Muğla Subesi|     Remziye KESİM|    Muğla|              Ege| 37,2153|  28,3636|    784782|   Şükran COMART|       49|      F NEFFİS|         İÇECEK|      ÇAY KAHVE|SEKER TATLANDIRICI|4.01.2017 15:56|4.01.2017 15:57|     K|\n",
      "|10472|   12743|KENT TOPITOP DISN...|  18090|5.01.2017 00:00|     1|  1,6|         1,6|   1,49|      60|      Muş Subesi|     Melisa KOZGAR|      Muş|     Doğu Anadolu| 38,9462|  41,7539|    771816|    Aynur KOZGAR|       79|          KENT|           GIDA|SAKIZ SEKERLEME|         ŞEKERLEME|6.01.2017 18:44|6.01.2017 18:45|     K|\n",
      "|10304|   11340|VIVIDENT CZD FRUI...|  18040|5.01.2017 00:00|     1| 1,95|        1,95|    1,8|       1|    Adana Subesi|Ramazan SARIMEHMET|    Adana|          Akdeniz|      37|  35,3213|    630399|    Rahime KASAP|      148|      VİVİDENT|           GIDA|SAKIZ SEKERLEME|             SAKIZ|6.01.2017 19:52|6.01.2017 19:52|     K|\n",
      "|  324|    6210|LAVACHE QUIRIT UC...|  15671|2.01.2017 00:00|     1| 3,45|        3,45|   3,19|      66|  Sakarya Subesi|     İlker BALOĞLU|  Sakarya|          Marmara|  40,694|  30,4358|    600916|       Zeki ŞALO|      198|LAVACHE-KARPER|SÜT KAHVALTILIK|         PEYNİR|              NULL|3.01.2017 15:00|3.01.2017 15:02|     E|\n",
      "| 9660|    5710|       KIRMIZI BIBER|  17876|6.01.2017 00:00| 0,235| 4,95|        1,16|   1,07|      81|Zonguldak Subesi|Arzu KARAKİTAPOĞLU|Zonguldak|        Karadeniz| 41,4564|  31,7987|    575194|Hümeyra VEZNİKLİ|      A25|           HAL|    MEYVE SEBZE|          SEBZE|              NULL|7.01.2017 12:52|7.01.2017 12:53|     K|\n",
      "| 9662|    5742|        CERI DOMATES|  17876|6.01.2017 00:00|  0,76| 4,75|        3,61|   3,34|      81|Zonguldak Subesi|Arzu KARAKİTAPOĞLU|Zonguldak|        Karadeniz| 41,4564|  31,7987|    575194|Hümeyra VEZNİKLİ|      A25|           HAL|    MEYVE SEBZE|          SEBZE|              NULL|7.01.2017 12:52|7.01.2017 12:53|     K|\n",
      "| 9625|    5780|      SALKIM DOMATES|  17865|6.01.2017 00:00| 0,945|  5,2|        4,91|   4,55|      12|Balıkesir Subesi|     Sami KASIMOVA|Balıkesir|              Ege| 39,6484|  27,8826|     74884|   Miray KOÇOĞLU|      A25|           HAL|    MEYVE SEBZE|          SEBZE|              NULL|7.01.2017 11:12|7.01.2017 11:13|     K|\n",
      "| 9748|    5715|             PATATES|  17902|6.01.2017 00:00|  2,79| 2,45|        6,84|   6,33|      12|Balıkesir Subesi|     Sami KASIMOVA|Balıkesir|              Ege| 39,6484|  27,8826|    521495|    Bilal PORSUK|      A25|           HAL|    MEYVE SEBZE|          SEBZE|              NULL|7.01.2017 14:28|7.01.2017 14:29|     E|\n",
      "| 9852|    5780|      SALKIM DOMATES|  17925|6.01.2017 00:00| 0,745|  5,2|        3,87|   3,58|      48|Kırıkkale Subesi|      Sami ÇAYKARA|Kırıkkale|       İç Anadolu| 39,8468|  33,5153|    318719|   Hakan ÖZKUTEN|      A25|           HAL|    MEYVE SEBZE|          SEBZE|              NULL|7.01.2017 16:28|7.01.2017 16:29|     E|\n",
      "| 5191|    5715|             PATATES|  16870|5.01.2017 00:00| 1,235| 2,45|        3,03|   2,81|      33|Gaziantep Subesi|       Dilan BAKİR|Gaziantep|Güneydoğu Anadolu| 37,0662|  37,3833|    522358|  Neslihan ŞAMİL|      A25|           HAL|    MEYVE SEBZE|          SEBZE|              NULL|6.01.2017 11:04|6.01.2017 11:04|     K|\n",
      "| 3734|    2523|MAGGI CORBA KREMA...|  16638|5.01.2017 00:00|     1| 0,85|        0,85|   0,79|      33|Gaziantep Subesi|       Dilan BAKİR|Gaziantep|Güneydoğu Anadolu| 37,0662|  37,3833|     18004|  İlayda AKSOYLU|       90|         MAGGİ|           GIDA|   CORBA BULYON|          CORBALAR|6.01.2017 13:16|6.01.2017 13:18|     K|\n",
      "+-----+--------+--------------------+-------+---------------+------+-----+------------+-------+--------+----------------+------------------+---------+-----------------+--------+---------+----------+----------------+---------+--------------+---------------+---------------+------------------+---------------+---------------+------+\n",
      "only showing top 20 rows\n",
      "\n"
     ]
    }
   ],
   "source": [
    "from pyspark.sql import SparkSession\n",
    "\n",
    "# SparkSession oluştur\n",
    "spark = SparkSession.builder \\\n",
    "    .appName(\"CSV_Reader\") \\\n",
    "    .getOrCreate()\n",
    "\n",
    "# CSV dosyasını oku, noktalı virgül ayırıcısını kullanarak\n",
    "df = spark.read.option(\"header\", \"true\") \\\n",
    "    .option(\"delimiter\", \";\") \\\n",
    "    .option(\"inferSchema\", \"true\") \\\n",
    "    .csv(\"/home/jovyan/work/MarketSales.csv\")\n",
    "\n",
    "# Dataframe'in ilk birkaç satırını göster\n",
    "df.show()\n",
    "\n"
   ]
  },
  {
   "cell_type": "code",
   "execution_count": 3,
   "metadata": {},
   "outputs": [
    {
     "name": "stdout",
     "output_type": "stream",
     "text": [
      "+---------------+\n",
      "|          DATE_|\n",
      "+---------------+\n",
      "|7.01.2017 00:00|\n",
      "|6.01.2017 00:00|\n",
      "|3.01.2017 00:00|\n",
      "|3.01.2017 00:00|\n",
      "|5.01.2017 00:00|\n",
      "+---------------+\n",
      "only showing top 5 rows\n",
      "\n"
     ]
    }
   ],
   "source": [
    "df.select(\"DATE_\").show(5)"
   ]
  },
  {
   "cell_type": "code",
   "execution_count": 17,
   "metadata": {},
   "outputs": [
    {
     "name": "stdout",
     "output_type": "stream",
     "text": [
      "+----+-----+-----------+\n",
      "|year|month|total_sales|\n",
      "+----+-----+-----------+\n",
      "|NULL| NULL|       NULL|\n",
      "|2017|    1|    88857.0|\n",
      "|2017|    2|    91138.0|\n",
      "|2017|    3|   112005.0|\n",
      "+----+-----+-----------+\n",
      "\n"
     ]
    }
   ],
   "source": [
    "from pyspark.sql.functions import year, month, sum, to_timestamp\n",
    "\n",
    "# Tarihi doğru formata dönüştür ve yıl/ay analizini yap\n",
    "sales_trend = df.withColumn(\"DATE_FORMATTED\", to_timestamp(\"DATE_\", \"d.MM.yyyy HH:mm\")) \\\n",
    "                .withColumn(\"year\", year(\"DATE_FORMATTED\")) \\\n",
    "                .withColumn(\"month\", month(\"DATE_FORMATTED\")) \\\n",
    "                .groupBy(\"year\", \"month\") \\\n",
    "                .agg(sum(\"LINENETTOTAL\").alias(\"total_sales\")) \\\n",
    "                .orderBy(\"year\", \"month\")\n",
    "\n",
    "sales_trend.show()"
   ]
  },
  {
   "cell_type": "code",
   "execution_count": 6,
   "metadata": {},
   "outputs": [
    {
     "name": "stdout",
     "output_type": "stream",
     "text": [
      "+----+-----+-----------+\n",
      "|year|month|total_sales|\n",
      "+----+-----+-----------+\n",
      "|NULL| NULL|       NULL|\n",
      "|2017|    1|    88857.0|\n",
      "|2017|    2|    91138.0|\n",
      "|2017|    3|   112005.0|\n",
      "+----+-----+-----------+\n",
      "\n"
     ]
    }
   ],
   "source": [
    "from pyspark.sql.functions import year, month, sum, to_timestamp, datediff, max, count\n",
    "\n",
    "# Tarihi doğru formata dönüştür\n",
    "df_formatted = df.withColumn(\"DATE_FORMATTED\", to_timestamp(\"DATE_\", \"d.MM.yyyy HH:mm\"))\n",
    "\n",
    "# Yıl ve aya göre toplam satışları hesapla\n",
    "sales_trend = df_formatted.withColumn(\"year\", year(\"DATE_FORMATTED\")) \\\n",
    "                          .withColumn(\"month\", month(\"DATE_FORMATTED\")) \\\n",
    "                          .groupBy(\"year\", \"month\") \\\n",
    "                          .agg(sum(\"LINENETTOTAL\").alias(\"total_sales\")) \\\n",
    "                          .orderBy(\"year\", \"month\")\n",
    "\n",
    "sales_trend.show()"
   ]
  },
  {
   "cell_type": "code",
   "execution_count": 7,
   "metadata": {},
   "outputs": [
    {
     "name": "stdout",
     "output_type": "stream",
     "text": [
      "+----+-----+-----------+\n",
      "|year|month|total_sales|\n",
      "+----+-----+-----------+\n",
      "|NULL| NULL|       NULL|\n",
      "|2017|    1|    88857.0|\n",
      "|2017|    2|    91138.0|\n",
      "|2017|    3|   112005.0|\n",
      "+----+-----+-----------+\n",
      "\n",
      "+----------+-------+---------+--------+\n",
      "|CLIENTCODE|recency|frequency|monetary|\n",
      "+----------+-------+---------+--------+\n",
      "|   1093856|     27|       39|    14.0|\n",
      "|    536646|     22|       22|    NULL|\n",
      "|    869396|     11|       31|    13.0|\n",
      "|    924386|      1|       47|     8.0|\n",
      "|    983041|     11|       15|     8.0|\n",
      "|     17506|     42|       14|    10.0|\n",
      "|    195395|      4|       52|    NULL|\n",
      "|    164951|     36|        7|     3.0|\n",
      "|    379975|      4|       16|     9.0|\n",
      "|   1055537|      8|        8|     7.0|\n",
      "|   1080760|     54|        8|     1.0|\n",
      "|   1005313|     57|       48|    11.0|\n",
      "|   1052349|     14|       70|    14.0|\n",
      "|    350582|     36|        4|    NULL|\n",
      "|    327859|     61|        7|    NULL|\n",
      "|   1028795|      1|       22|    18.0|\n",
      "|   1068016|     46|       23|     7.0|\n",
      "|    308135|     10|       12|    43.0|\n",
      "|    621401|     61|        7|     1.0|\n",
      "|    508840|     13|       14|     1.0|\n",
      "+----------+-------+---------+--------+\n",
      "only showing top 20 rows\n",
      "\n"
     ]
    }
   ],
   "source": [
    "from pyspark.sql.functions import year, month, sum, to_timestamp, datediff, max, count, current_date, lit\n",
    "\n",
    "\n",
    "# Tarihi doğru formata dönüştür\n",
    "df_formatted = df.withColumn(\"DATE_FORMATTED\", to_timestamp(\"DATE_\", \"d.MM.yyyy HH:mm\"))\n",
    "\n",
    "# Yıl ve aya göre toplam satışları hesapla\n",
    "sales_trend = df_formatted.withColumn(\"year\", year(\"DATE_FORMATTED\")) \\\n",
    "                          .withColumn(\"month\", month(\"DATE_FORMATTED\")) \\\n",
    "                          .groupBy(\"year\", \"month\") \\\n",
    "                          .agg(sum(\"LINENETTOTAL\").alias(\"total_sales\")) \\\n",
    "                          .orderBy(\"year\", \"month\")\n",
    "\n",
    "sales_trend.show()\n",
    "\n",
    "# current_date'i bir Spark Column olarak al\n",
    "current_date_col = current_date()\n",
    "\n",
    "# RFM hesaplamasında bu Column'u kullan\n",
    "rfm = df_formatted.withColumn(\"recency\", datediff(current_date_col, \"DATE_FORMATTED\"))\n",
    "\n",
    "# Diğer işlemler...\n",
    "current_date_value = df_formatted.agg(max(\"DATE_FORMATTED\")).collect()[0][0]\n",
    "\n",
    "rfm = df_formatted.groupBy(\"CLIENTCODE\") \\\n",
    "    .agg(\n",
    "        datediff(lit(current_date_value), max(\"DATE_FORMATTED\")).alias(\"recency\"),\n",
    "        count(\"FICHENO\").alias(\"frequency\"),\n",
    "        sum(\"LINENETTOTAL\").alias(\"monetary\")\n",
    "    )\n",
    "\n",
    "rfm.show()"
   ]
  },
  {
   "cell_type": "code",
   "execution_count": 1,
   "metadata": {},
   "outputs": [
    {
     "name": "stdout",
     "output_type": "stream",
     "text": [
      "\n"
     ]
    }
   ],
   "source": [
    "print(\"\")"
   ]
  },
  {
   "cell_type": "code",
   "execution_count": 8,
   "metadata": {},
   "outputs": [
    {
     "name": "stdout",
     "output_type": "stream",
     "text": [
      "+-----------------+-----------------+------------------+\n",
      "|           BRANCH|total_sales_count|total_sales_amount|\n",
      "+-----------------+-----------------+------------------+\n",
      "|  İstanbul Subesi|           113620|           52096.0|\n",
      "|    Ankara Subesi|            40694|           21048.0|\n",
      "|     İzmir Subesi|            32326|           13859.0|\n",
      "|   Antalya Subesi|            17371|           12526.0|\n",
      "|Diyarbakır Subesi|            12384|            9528.0|\n",
      "| Gümüşhane Subesi|             1187|            9029.0|\n",
      "|     Bursa Subesi|            21215|            8773.0|\n",
      "|     Adana Subesi|            15861|            7216.0|\n",
      "|     Konya Subesi|            15886|            6989.0|\n",
      "| Zonguldak Subesi|            14387|            6731.0|\n",
      "|   Kocaeli Subesi|            14292|            6629.0|\n",
      "| Şanlıurfa Subesi|            14824|            6474.0|\n",
      "|    Mersin Subesi|            12513|            6118.0|\n",
      "| Gaziantep Subesi|            14445|            5869.0|\n",
      "|     Hatay Subesi|            11837|            5417.0|\n",
      "|    Manisa Subesi|            10795|            4826.0|\n",
      "|   Kayseri Subesi|            10470|            4591.0|\n",
      "|    Samsun Subesi|             9792|            4217.0|\n",
      "|       Van Subesi|             8827|            3920.0|\n",
      "| Balıkesir Subesi|             9428|            3874.0|\n",
      "+-----------------+-----------------+------------------+\n",
      "only showing top 20 rows\n",
      "\n"
     ]
    }
   ],
   "source": [
    "\n",
    "from pyspark.sql.functions import col\n",
    "\n",
    "# Mağaza bazında satış adedi ve satış miktarını hesapla\n",
    "top_stores = df_formatted.groupBy(\"BRANCH\") \\\n",
    "                         .agg(\n",
    "                             count(\"FICHENO\").alias(\"total_sales_count\"),\n",
    "                             sum(\"LINENETTOTAL\").alias(\"total_sales_amount\")\n",
    "                         ) \\\n",
    "                         .orderBy(col(\"total_sales_amount\").desc())\n",
    "\n",
    "top_stores.show()\n"
   ]
  },
  {
   "cell_type": "markdown",
   "metadata": {},
   "source": [
    "#### En Popüler Ürünler"
   ]
  },
  {
   "cell_type": "code",
   "execution_count": 10,
   "metadata": {},
   "outputs": [
    {
     "name": "stdout",
     "output_type": "stream",
     "text": [
      "+--------------------+-----------------+------------------+\n",
      "|            ITEMNAME|total_sales_count|total_sales_amount|\n",
      "+--------------------+-----------------+------------------+\n",
      "|        EKMEK 250 GR|             9122|             294.0|\n",
      "|                NULL|             7167|            5972.0|\n",
      "|             DOMATES|             6018|             330.0|\n",
      "|             PATATES|             5718|             360.0|\n",
      "|            PORTAKAL|             5611|             248.0|\n",
      "|           TOZ SEKER|             5242|            8984.0|\n",
      "|               SOGAN|             4631|              68.0|\n",
      "| OSMANCIK PIRINC KG.|             4101|            1218.0|\n",
      "|               LIMON|             4093|              87.0|\n",
      "|                 MUZ|             3934|             176.0|\n",
      "|            KIVIRCIK|             3925|             701.0|\n",
      "|            MAYDANOZ|             3808|             579.0|\n",
      "|               HAVUC|             3632|              69.0|\n",
      "|SİHİRLİ ELLER CİG...|             3566|            9510.0|\n",
      "|F NEFFIS SÜT YARI...|             3253|              NULL|\n",
      "|         YERLI BADEM|             2900|              96.0|\n",
      "|ULKER CIKOLATALI ...|             2692|            1470.0|\n",
      "|YAHYAOGLU 15 LI Y...|             2588|              NULL|\n",
      "|   PORTAKAL SIKMALIK|             2561|              65.0|\n",
      "|      SALKIM DOMATES|             2471|             100.0|\n",
      "+--------------------+-----------------+------------------+\n",
      "only showing top 20 rows\n",
      "\n"
     ]
    }
   ],
   "source": [
    "# En popüler ürünleri belirle\n",
    "popular_products = df_formatted.groupBy(\"ITEMNAME\") \\\n",
    "                               .agg(\n",
    "                                   count(\"FICHENO\").alias(\"total_sales_count\"),\n",
    "                                   sum(\"LINENETTOTAL\").alias(\"total_sales_amount\")\n",
    "                               ) \\\n",
    "                               .orderBy(col(\"total_sales_count\").desc())\n",
    "\n",
    "popular_products.show()"
   ]
  },
  {
   "cell_type": "markdown",
   "metadata": {},
   "source": [
    "#### 2. Bölgesel Satış Analizi"
   ]
  },
  {
   "cell_type": "code",
   "execution_count": 9,
   "metadata": {},
   "outputs": [
    {
     "name": "stdout",
     "output_type": "stream",
     "text": [
      "+-----------------+-----------------+------------------+\n",
      "|           REGION|total_sales_count|total_sales_amount|\n",
      "+-----------------+-----------------+------------------+\n",
      "|          Marmara|           175658|           79029.0|\n",
      "|       İç Anadolu|            96121|           45029.0|\n",
      "|          Akdeniz|            75735|           39447.0|\n",
      "|        Karadeniz|            67629|           39253.0|\n",
      "|              Ege|            87170|           38200.0|\n",
      "|Güneydoğu Anadolu|            63848|           31434.0|\n",
      "|     Doğu Anadolu|            44938|           19608.0|\n",
      "|             NULL|                1|              NULL|\n",
      "+-----------------+-----------------+------------------+\n",
      "\n"
     ]
    }
   ],
   "source": [
    "# Bölgesel satış analizini yap\n",
    "regional_sales = df_formatted.groupBy(\"REGION\") \\\n",
    "                             .agg(\n",
    "                                 count(\"FICHENO\").alias(\"total_sales_count\"),\n",
    "                                 sum(\"LINENETTOTAL\").alias(\"total_sales_amount\")\n",
    "                             ) \\\n",
    "                             .orderBy(col(\"total_sales_amount\").desc())\n",
    "\n",
    "regional_sales.show()"
   ]
  },
  {
   "cell_type": "markdown",
   "metadata": {},
   "source": [
    "#### Müşteri Segmentasyonu"
   ]
  },
  {
   "cell_type": "code",
   "execution_count": 11,
   "metadata": {},
   "outputs": [
    {
     "ename": "NameError",
     "evalue": "name 'when' is not defined",
     "output_type": "error",
     "traceback": [
      "\u001b[0;31m---------------------------------------------------------------------------\u001b[0m",
      "\u001b[0;31mNameError\u001b[0m                                 Traceback (most recent call last)",
      "Cell \u001b[0;32mIn[11], line 3\u001b[0m\n\u001b[1;32m      1\u001b[0m \u001b[38;5;66;03m# Müşterileri segmentlere ayır\u001b[39;00m\n\u001b[1;32m      2\u001b[0m customer_segments \u001b[38;5;241m=\u001b[39m rfm\u001b[38;5;241m.\u001b[39mwithColumn(\u001b[38;5;124m\"\u001b[39m\u001b[38;5;124msegment\u001b[39m\u001b[38;5;124m\"\u001b[39m,\n\u001b[0;32m----> 3\u001b[0m                                    \u001b[43mwhen\u001b[49m(col(\u001b[38;5;124m\"\u001b[39m\u001b[38;5;124mrecency\u001b[39m\u001b[38;5;124m\"\u001b[39m) \u001b[38;5;241m<\u001b[39m\u001b[38;5;241m=\u001b[39m \u001b[38;5;241m30\u001b[39m, \u001b[38;5;124m\"\u001b[39m\u001b[38;5;124mNew\u001b[39m\u001b[38;5;124m\"\u001b[39m)\n\u001b[1;32m      4\u001b[0m                                    \u001b[38;5;241m.\u001b[39mwhen((col(\u001b[38;5;124m\"\u001b[39m\u001b[38;5;124mrecency\u001b[39m\u001b[38;5;124m\"\u001b[39m) \u001b[38;5;241m>\u001b[39m \u001b[38;5;241m30\u001b[39m) \u001b[38;5;241m&\u001b[39m (col(\u001b[38;5;124m\"\u001b[39m\u001b[38;5;124mrecency\u001b[39m\u001b[38;5;124m\"\u001b[39m) \u001b[38;5;241m<\u001b[39m\u001b[38;5;241m=\u001b[39m \u001b[38;5;241m90\u001b[39m), \u001b[38;5;124m\"\u001b[39m\u001b[38;5;124mActive\u001b[39m\u001b[38;5;124m\"\u001b[39m)\n\u001b[1;32m      5\u001b[0m                                    \u001b[38;5;241m.\u001b[39motherwise(\u001b[38;5;124m\"\u001b[39m\u001b[38;5;124mInactive\u001b[39m\u001b[38;5;124m\"\u001b[39m))\n\u001b[1;32m      7\u001b[0m customer_segments\u001b[38;5;241m.\u001b[39mshow()\n",
      "\u001b[0;31mNameError\u001b[0m: name 'when' is not defined"
     ]
    }
   ],
   "source": [
    "# Müşterileri segmentlere ayır\n",
    "customer_segments = rfm.withColumn(\"segment\",\n",
    "                                   when(col(\"recency\") <= 30, \"New\")\n",
    "                                   .when((col(\"recency\") > 30) & (col(\"recency\") <= 90), \"Active\")\n",
    "                                   .otherwise(\"Inactive\"))\n",
    "\n",
    "customer_segments.show()"
   ]
  },
  {
   "cell_type": "markdown",
   "metadata": {},
   "source": [
    "#### Satış Eğilimleri"
   ]
  },
  {
   "cell_type": "code",
   "execution_count": 12,
   "metadata": {},
   "outputs": [
    {
     "name": "stdout",
     "output_type": "stream",
     "text": [
      "+----+-----+-----------+\n",
      "|year|month|total_sales|\n",
      "+----+-----+-----------+\n",
      "|NULL| NULL|       NULL|\n",
      "|2017|    1|    88857.0|\n",
      "|2017|    2|    91138.0|\n",
      "|2017|    3|   112005.0|\n",
      "+----+-----+-----------+\n",
      "\n"
     ]
    }
   ],
   "source": [
    "# Zaman içindeki satış eğilimlerini analiz et\n",
    "sales_trend = df_formatted.withColumn(\"DATE_FORMATTED\", to_timestamp(\"DATE_\", \"d.MM.yyyy HH:mm\")) \\\n",
    "                          .withColumn(\"year\", year(\"DATE_FORMATTED\")) \\\n",
    "                          .withColumn(\"month\", month(\"DATE_FORMATTED\")) \\\n",
    "                          .groupBy(\"year\", \"month\") \\\n",
    "                          .agg(sum(\"LINENETTOTAL\").alias(\"total_sales\")) \\\n",
    "                          .orderBy(\"year\", \"month\")\n",
    "\n",
    "sales_trend.show()"
   ]
  },
  {
   "cell_type": "code",
   "execution_count": 13,
   "metadata": {},
   "outputs": [
    {
     "name": "stdout",
     "output_type": "stream",
     "text": [
      "+----+-----------+-----------+\n",
      "|year|day_of_year|total_sales|\n",
      "+----+-----------+-----------+\n",
      "|2017|         83|    11519.0|\n",
      "|2017|         35|     9186.0|\n",
      "|2017|         27|     6492.0|\n",
      "|2017|         10|     6021.0|\n",
      "|2017|         61|     5243.0|\n",
      "|2017|         68|     4324.0|\n",
      "|2017|         85|     4114.0|\n",
      "|2017|         79|     3985.0|\n",
      "|2017|         77|     3977.0|\n",
      "|2017|         12|     3972.0|\n",
      "|2017|         17|     3950.0|\n",
      "|2017|         73|     3889.0|\n",
      "|2017|         30|     3864.0|\n",
      "|2017|         19|     3862.0|\n",
      "|2017|         82|     3840.0|\n",
      "|2017|         56|     3839.0|\n",
      "|2017|         87|     3831.0|\n",
      "|2017|         80|     3790.0|\n",
      "|2017|         90|     3720.0|\n",
      "|2017|         38|     3701.0|\n",
      "+----+-----------+-----------+\n",
      "only showing top 20 rows\n",
      "\n"
     ]
    }
   ],
   "source": [
    "from pyspark.sql.functions import dayofyear\n",
    "\n",
    "# Tarihi doğru formata dönüştür\n",
    "df_formatted = df.withColumn(\"DATE_FORMATTED\", to_timestamp(\"DATE_\", \"d.MM.yyyy HH:mm\"))\n",
    "\n",
    "# Yıla göre en çok satış yapılan günleri belirle\n",
    "top_sales_days = df_formatted.withColumn(\"year\", year(\"DATE_FORMATTED\")) \\\n",
    "                             .withColumn(\"day_of_year\", dayofyear(\"DATE_FORMATTED\")) \\\n",
    "                             .groupBy(\"year\", \"day_of_year\") \\\n",
    "                             .agg(sum(\"LINENETTOTAL\").alias(\"total_sales\")) \\\n",
    "                             .orderBy(col(\"total_sales\").desc())\n",
    "\n",
    "top_sales_days.show()"
   ]
  },
  {
   "cell_type": "markdown",
   "metadata": {},
   "source": [
    "#### En Popüler Ürünler"
   ]
  },
  {
   "cell_type": "code",
   "execution_count": null,
   "metadata": {},
   "outputs": [],
   "source": []
  }
 ],
 "metadata": {
  "kernelspec": {
   "display_name": "Python 3 (ipykernel)",
   "language": "python",
   "name": "python3"
  }
 },
 "nbformat": 4,
 "nbformat_minor": 2
}
